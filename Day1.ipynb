{
 "cells": [
  {
   "cell_type": "markdown",
   "id": "9800416c",
   "metadata": {},
   "source": [
    "#### Day 1\n"
   ]
  },
  {
   "cell_type": "code",
   "execution_count": null,
   "id": "b7faff5b",
   "metadata": {},
   "outputs": [],
   "source": [
    "#Install the packages\n",
    "%pip install pandas scikit-learn"
   ]
  },
  {
   "cell_type": "code",
   "execution_count": null,
   "id": "9f0b99b4",
   "metadata": {},
   "outputs": [],
   "source": [
    "# Read the dataset\n",
    "import pandas as pd\n",
    "df = pd.read_csv('customer_data.csv')\n",
    "df.head(5)"
   ]
  },
  {
   "cell_type": "code",
   "execution_count": null,
   "id": "6752e92b",
   "metadata": {},
   "outputs": [],
   "source": [
    "#Get the shape\n",
    "df.shape"
   ]
  },
  {
   "cell_type": "code",
   "execution_count": null,
   "id": "7c5d5492",
   "metadata": {},
   "outputs": [],
   "source": [
    "#check for null values\n",
    "df.isnull().any()"
   ]
  },
  {
   "cell_type": "code",
   "execution_count": null,
   "id": "766f9e2b",
   "metadata": {},
   "outputs": [],
   "source": [
    "df.rename(columns = {'Spending Score (1-100)':'Spending Score'},\n",
    "inplace=True)\n",
    "df.rename(columns={\"Annual Income (k$)\": 'Annual Income'},\n",
    "inplace=True)"
   ]
  },
  {
   "cell_type": "code",
   "execution_count": null,
   "id": "26129c45",
   "metadata": {},
   "outputs": [],
   "source": [
    "df.columns"
   ]
  },
  {
   "cell_type": "code",
   "execution_count": null,
   "id": "f0c3cc1d",
   "metadata": {},
   "outputs": [],
   "source": [
    "# Check for duplicate rows\n",
    "#df.duplicated().sum()\n",
    "df.duplicated(subset=['Gender', 'Age', 'Annual Income', 'Spending Score']).sum()"
   ]
  },
  {
   "cell_type": "code",
   "execution_count": null,
   "id": "06fdc20a",
   "metadata": {},
   "outputs": [],
   "source": [
    "# Prepare features and label for modeling\n",
    "X = df[['Gender', 'Age', 'Annual Income']]\n",
    "y = df['Spending Score']"
   ]
  },
  {
   "cell_type": "code",
   "execution_count": null,
   "id": "0f330570",
   "metadata": {},
   "outputs": [],
   "source": [
    "from sklearn.model_selection import train_test_split\n",
    "X_train, X_test, y_train, y_test = train_test_split(X, y, test_size=0.2,\n",
    "random_state=45)\n",
    "X_train.shape, y_train.shape # ((160, 4), (160,))\n",
    "X_test.shape, y_test.shape # ((40, 4), (40,))"
   ]
  },
  {
   "cell_type": "code",
   "execution_count": null,
   "id": "739eda55",
   "metadata": {},
   "outputs": [],
   "source": [
    "from sklearn.preprocessing import LabelEncoder\n",
    "labelencoder = LabelEncoder()\n",
    "X_train['Gender'] = labelencoder.fit_transform(X_train['Gender'])\n",
    "X_test['Gender'] = labelencoder.fit_transform(X_test['Gender'])\n",
    "\n",
    "X_train.head()\n"
   ]
  },
  {
   "cell_type": "markdown",
   "id": "92df4696",
   "metadata": {},
   "source": [
    "#### Trying with Support Vector Regression Model"
   ]
  },
  {
   "cell_type": "code",
   "execution_count": null,
   "id": "04535839",
   "metadata": {},
   "outputs": [],
   "source": [
    "from sklearn import svm\n",
    "svm_model = svm.SVR()\n",
    "svm_model.fit(X_train, y_train)\n",
    "svm_prediction = svm_model.predict(X_test)\n",
    "from sklearn.metrics import mean_absolute_error\n",
    "svm_mae = mean_absolute_error(y_test, svm_prediction)\n",
    "svm_mae # 15 (Not Good!)"
   ]
  },
  {
   "cell_type": "markdown",
   "id": "2694f2ba",
   "metadata": {},
   "source": [
    "#### Let's try Decision Tree Regressor Model."
   ]
  },
  {
   "cell_type": "code",
   "execution_count": null,
   "id": "eca96c59",
   "metadata": {},
   "outputs": [],
   "source": [
    "from sklearn.tree import DecisionTreeRegressor\n",
    "dt_model = DecisionTreeRegressor()\n",
    "dt_model.fit(X_train, y_train)\n",
    "dt_prediction = dt_model.predict(X_test)\n",
    "dt_mae = mean_absolute_error(y_test, dt_prediction)\n",
    "dt_mae"
   ]
  },
  {
   "cell_type": "code",
   "execution_count": null,
   "id": "ce480b0a",
   "metadata": {},
   "outputs": [],
   "source": [
    "from sklearn.preprocessing import StandardScaler\n",
    "std_scaler = StandardScaler()\n",
    "scaled_X_train = pd.DataFrame(std_scaler.fit_transform(X_train),\n",
    "columns=X_train.columns, index=X_train.index)\n",
    "scaled_X_test = pd.DataFrame(std_scaler.fit_transform(X_test),\n",
    "columns=X_test.columns, index=X_test.index)"
   ]
  },
  {
   "cell_type": "code",
   "execution_count": null,
   "id": "d5e81a60",
   "metadata": {},
   "outputs": [],
   "source": [
    "labelencoder = LabelEncoder()\n",
    "scaled_X_train['Gender'] = labelencoder.fit_transform(X_train['Gender'])\n",
    "scaled_X_test['Gender'] = labelencoder.fit_transform(X_test['Gender'])\n",
    "svm_model.fit(scaled_X_train, y_train)\n",
    "new_svm_prediction = svm_model.predict(scaled_X_test)\n",
    "mean_absolute_error(y_test, new_svm_prediction) "
   ]
  },
  {
   "cell_type": "markdown",
   "id": "fa067b49",
   "metadata": {},
   "source": [
    "#### let's try Linear Regression Model."
   ]
  },
  {
   "cell_type": "code",
   "execution_count": null,
   "id": "d7931eae",
   "metadata": {},
   "outputs": [],
   "source": [
    "from sklearn.linear_model import LinearRegression\n",
    "lr_model = LinearRegression()\n",
    "lr_model.fit(scaled_X_train, y_train)\n",
    "lr_prediction = lr_model.predict(scaled_X_test)\n",
    "lr_prediction\n",
    "lr_mae = mean_absolute_error(y_test, lr_prediction)\n",
    "lr_mae"
   ]
  }
 ],
 "metadata": {
  "kernelspec": {
   "display_name": ".venv",
   "language": "python",
   "name": "python3"
  },
  "language_info": {
   "codemirror_mode": {
    "name": "ipython",
    "version": 3
   },
   "file_extension": ".py",
   "mimetype": "text/x-python",
   "name": "python",
   "nbconvert_exporter": "python",
   "pygments_lexer": "ipython3",
   "version": "3.12.10"
  }
 },
 "nbformat": 4,
 "nbformat_minor": 5
}
