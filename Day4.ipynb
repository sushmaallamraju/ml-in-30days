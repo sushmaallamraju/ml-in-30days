{
 "cells": [
  {
   "cell_type": "markdown",
   "id": "785fabdb",
   "metadata": {},
   "source": [
    "### <p align=\"center\">Melbourne Housing Prediction</p>\n"
   ]
  },
  {
   "cell_type": "markdown",
   "id": "514f2e75",
   "metadata": {
    "papermill": {
     "duration": 0.022613,
     "end_time": "2022-02-13T08:05:20.126038",
     "exception": false,
     "start_time": "2022-02-13T08:05:20.103425",
     "status": "completed"
    },
    "tags": []
   },
   "source": [
    "### Importing the Dependencies"
   ]
  },
  {
   "cell_type": "code",
   "execution_count": null,
   "id": "7cdb1251",
   "metadata": {
    "_cell_guid": "b1076dfc-b9ad-4769-8c92-a6c4dae69d19",
    "_uuid": "8f2839f25d086af736a60e9eeb907d3b93b6e0e5",
    "execution": {
     "iopub.execute_input": "2022-02-13T08:05:20.174085Z",
     "iopub.status.busy": "2022-02-13T08:05:20.173014Z",
     "iopub.status.idle": "2022-02-13T08:05:21.403813Z",
     "shell.execute_reply": "2022-02-13T08:05:21.403178Z",
     "shell.execute_reply.started": "2022-02-13T07:58:48.338866Z"
    },
    "papermill": {
     "duration": 1.255834,
     "end_time": "2022-02-13T08:05:21.403978",
     "exception": false,
     "start_time": "2022-02-13T08:05:20.148144",
     "status": "completed"
    },
    "tags": []
   },
   "outputs": [],
   "source": [
    "#  importing all the required libraries\n",
    "import numpy as np \n",
    "import pandas as pd\n",
    "from sklearn.model_selection import train_test_split\n",
    "from sklearn.feature_extraction.text import TfidfVectorizer\n",
    "from sklearn.linear_model import LogisticRegression\n",
    "from sklearn.metrics import accuracy_score"
   ]
  },
  {
   "cell_type": "code",
   "execution_count": null,
   "id": "480f1f1a",
   "metadata": {
    "execution": {
     "iopub.execute_input": "2022-02-13T08:05:21.489223Z",
     "iopub.status.busy": "2022-02-13T08:05:21.488685Z",
     "iopub.status.idle": "2022-02-13T08:05:21.522586Z",
     "shell.execute_reply": "2022-02-13T08:05:21.523108Z",
     "shell.execute_reply.started": "2022-02-13T07:59:35.448758Z"
    },
    "papermill": {
     "duration": 0.0574,
     "end_time": "2022-02-13T08:05:21.523279",
     "exception": false,
     "start_time": "2022-02-13T08:05:21.465879",
     "status": "completed"
    },
    "tags": []
   },
   "outputs": [],
   "source": [
    "#Loading dataset \n",
    "df = pd.read_csv('melb_data.csv')\n",
    "\n",
    "pd.set_option('display.max_columns', 100)"
   ]
  },
  {
   "cell_type": "code",
   "execution_count": null,
   "id": "3a84ecba",
   "metadata": {
    "execution": {
     "iopub.execute_input": "2022-02-13T08:05:21.568741Z",
     "iopub.status.busy": "2022-02-13T08:05:21.568166Z",
     "iopub.status.idle": "2022-02-13T08:05:21.581082Z",
     "shell.execute_reply": "2022-02-13T08:05:21.581542Z",
     "shell.execute_reply.started": "2022-02-13T07:59:47.683154Z"
    },
    "papermill": {
     "duration": 0.036625,
     "end_time": "2022-02-13T08:05:21.581729",
     "exception": false,
     "start_time": "2022-02-13T08:05:21.545104",
     "status": "completed"
    },
    "tags": []
   },
   "outputs": [],
   "source": [
    "#checking head count\n",
    "df.head\n"
   ]
  },
  {
   "cell_type": "code",
   "execution_count": null,
   "id": "ba25a2c4",
   "metadata": {
    "execution": {
     "iopub.execute_input": "2022-02-13T08:05:21.627948Z",
     "iopub.status.busy": "2022-02-13T08:05:21.627361Z",
     "iopub.status.idle": "2022-02-13T08:05:21.632494Z",
     "shell.execute_reply": "2022-02-13T08:05:21.633002Z",
     "shell.execute_reply.started": "2022-02-13T07:59:57.015375Z"
    },
    "papermill": {
     "duration": 0.029672,
     "end_time": "2022-02-13T08:05:21.633160",
     "exception": false,
     "start_time": "2022-02-13T08:05:21.603488",
     "status": "completed"
    },
    "tags": []
   },
   "outputs": [],
   "source": [
    "#checking shape & is there any null values \n",
    "df.shape #(13580, 21)\n",
    "df.isnull().sum()"
   ]
  },
  {
   "cell_type": "code",
   "execution_count": null,
   "id": "88284658",
   "metadata": {
    "execution": {
     "iopub.execute_input": "2022-02-13T08:05:21.678322Z",
     "iopub.status.busy": "2022-02-13T08:05:21.677784Z",
     "iopub.status.idle": "2022-02-13T08:05:21.690495Z",
     "shell.execute_reply": "2022-02-13T08:05:21.690973Z",
     "shell.execute_reply.started": "2022-02-13T08:00:03.569672Z"
    },
    "papermill": {
     "duration": 0.036489,
     "end_time": "2022-02-13T08:05:21.691132",
     "exception": false,
     "start_time": "2022-02-13T08:05:21.654643",
     "status": "completed"
    },
    "tags": []
   },
   "outputs": [],
   "source": [
    "#describe table\n",
    "df.describe().T"
   ]
  },
  {
   "cell_type": "code",
   "execution_count": null,
   "id": "74f9dece",
   "metadata": {
    "execution": {
     "iopub.execute_input": "2022-02-13T08:05:21.835400Z",
     "iopub.status.busy": "2022-02-13T08:05:21.834831Z",
     "iopub.status.idle": "2022-02-13T08:05:21.844136Z",
     "shell.execute_reply": "2022-02-13T08:05:21.844537Z",
     "shell.execute_reply.started": "2022-02-13T08:00:32.312819Z"
    },
    "papermill": {
     "duration": 0.034185,
     "end_time": "2022-02-13T08:05:21.844726",
     "exception": false,
     "start_time": "2022-02-13T08:05:21.810541",
     "status": "completed"
    },
    "tags": []
   },
   "outputs": [],
   "source": [
    "#desribe with info\n",
    "df.info()"
   ]
  },
  {
   "cell_type": "markdown",
   "id": "b675ff06",
   "metadata": {
    "papermill": {
     "duration": 0.021613,
     "end_time": "2022-02-13T08:05:21.888215",
     "exception": false,
     "start_time": "2022-02-13T08:05:21.866602",
     "status": "completed"
    },
    "tags": []
   },
   "source": [
    "* spam - 0\n",
    " \n",
    "* ham - 1"
   ]
  },
  {
   "cell_type": "code",
   "execution_count": null,
   "id": "6d9e1363",
   "metadata": {
    "execution": {
     "iopub.execute_input": "2022-02-13T08:05:21.935314Z",
     "iopub.status.busy": "2022-02-13T08:05:21.934734Z",
     "iopub.status.idle": "2022-02-13T08:05:21.939229Z",
     "shell.execute_reply": "2022-02-13T08:05:21.939959Z",
     "shell.execute_reply.started": "2022-02-13T08:00:55.861439Z"
    },
    "papermill": {
     "duration": 0.030064,
     "end_time": "2022-02-13T08:05:21.940186",
     "exception": false,
     "start_time": "2022-02-13T08:05:21.910122",
     "status": "completed"
    },
    "tags": []
   },
   "outputs": [],
   "source": [
    "df.nunique()"
   ]
  },
  {
   "cell_type": "code",
   "execution_count": null,
   "id": "b922eaa6",
   "metadata": {
    "execution": {
     "iopub.execute_input": "2022-02-13T08:05:22.008478Z",
     "iopub.status.busy": "2022-02-13T08:05:22.004294Z",
     "iopub.status.idle": "2022-02-13T08:05:22.011401Z",
     "shell.execute_reply": "2022-02-13T08:05:22.012050Z",
     "shell.execute_reply.started": "2022-02-13T08:01:03.061297Z"
    },
    "papermill": {
     "duration": 0.040335,
     "end_time": "2022-02-13T08:05:22.012291",
     "exception": false,
     "start_time": "2022-02-13T08:05:21.971956",
     "status": "completed"
    },
    "tags": []
   },
   "outputs": [],
   "source": [
    "#dropping coloumns\n",
    "df = df.drop(columns=['BuildingArea', 'YearBuilt', 'CouncilArea'])"
   ]
  },
  {
   "cell_type": "code",
   "execution_count": null,
   "id": "5eaab632",
   "metadata": {
    "execution": {
     "iopub.execute_input": "2022-02-13T08:05:22.170416Z",
     "iopub.status.busy": "2022-02-13T08:05:22.169888Z",
     "iopub.status.idle": "2022-02-13T08:05:22.175893Z",
     "shell.execute_reply": "2022-02-13T08:05:22.176409Z",
     "shell.execute_reply.started": "2022-02-13T08:01:43.929447Z"
    },
    "papermill": {
     "duration": 0.031592,
     "end_time": "2022-02-13T08:05:22.176580",
     "exception": false,
     "start_time": "2022-02-13T08:05:22.144988",
     "status": "completed"
    },
    "tags": []
   },
   "outputs": [],
   "source": [
    "df.isnull().sum()"
   ]
  },
  {
   "cell_type": "code",
   "execution_count": null,
   "id": "64e5b11b",
   "metadata": {
    "execution": {
     "iopub.execute_input": "2022-02-13T08:05:22.324607Z",
     "iopub.status.busy": "2022-02-13T08:05:22.324055Z",
     "iopub.status.idle": "2022-02-13T08:05:22.425775Z",
     "shell.execute_reply": "2022-02-13T08:05:22.425135Z",
     "shell.execute_reply.started": "2022-02-13T08:02:10.622253Z"
    },
    "papermill": {
     "duration": 0.127765,
     "end_time": "2022-02-13T08:05:22.425918",
     "exception": false,
     "start_time": "2022-02-13T08:05:22.298153",
     "status": "completed"
    },
    "tags": []
   },
   "outputs": [],
   "source": [
    "#Dropping\n",
    "df = df.drop(columns=['Car'])"
   ]
  },
  {
   "cell_type": "code",
   "execution_count": null,
   "id": "6408f606",
   "metadata": {
    "execution": {
     "iopub.execute_input": "2022-02-13T08:05:22.477760Z",
     "iopub.status.busy": "2022-02-13T08:05:22.477107Z",
     "iopub.status.idle": "2022-02-13T08:05:22.479865Z",
     "shell.execute_reply": "2022-02-13T08:05:22.480374Z",
     "shell.execute_reply.started": "2022-02-13T08:02:28.994337Z"
    },
    "papermill": {
     "duration": 0.031435,
     "end_time": "2022-02-13T08:05:22.480534",
     "exception": false,
     "start_time": "2022-02-13T08:05:22.449099",
     "status": "completed"
    },
    "tags": []
   },
   "outputs": [],
   "source": [
    "low_cardinality_col = [col for col in df.columns if df[col].dtype ==\n",
    "object and df[col].nunique() < 10]\n",
    "num_col = [col for col in df.columns if df[col].dtype in [int, float]]"
   ]
  },
  {
   "cell_type": "code",
   "execution_count": null,
   "id": "bb5599cd",
   "metadata": {
    "execution": {
     "iopub.execute_input": "2022-02-13T08:05:22.531126Z",
     "iopub.status.busy": "2022-02-13T08:05:22.530278Z",
     "iopub.status.idle": "2022-02-13T08:05:22.535499Z",
     "shell.execute_reply": "2022-02-13T08:05:22.535072Z",
     "shell.execute_reply.started": "2022-02-13T08:02:37.469975Z"
    },
    "papermill": {
     "duration": 0.031952,
     "end_time": "2022-02-13T08:05:22.535679",
     "exception": false,
     "start_time": "2022-02-13T08:05:22.503727",
     "status": "completed"
    },
    "tags": []
   },
   "outputs": [],
   "source": [
    "X = df[low_cardinality_col + num_col].drop(columns='Price')\n",
    "X.tail()"
   ]
  },
  {
   "cell_type": "code",
   "execution_count": null,
   "id": "000c3761",
   "metadata": {
    "execution": {
     "iopub.execute_input": "2022-02-13T08:05:22.633875Z",
     "iopub.status.busy": "2022-02-13T08:05:22.632986Z",
     "iopub.status.idle": "2022-02-13T08:05:22.636396Z",
     "shell.execute_reply": "2022-02-13T08:05:22.636999Z",
     "shell.execute_reply.started": "2022-02-13T08:03:02.585437Z"
    },
    "papermill": {
     "duration": 0.030561,
     "end_time": "2022-02-13T08:05:22.637155",
     "exception": false,
     "start_time": "2022-02-13T08:05:22.606594",
     "status": "completed"
    },
    "tags": []
   },
   "outputs": [],
   "source": [
    "X[low_cardinality_col].nunique()"
   ]
  },
  {
   "cell_type": "code",
   "execution_count": null,
   "id": "f1a355d7",
   "metadata": {},
   "outputs": [],
   "source": [
    "#LabelEncoder\n",
    "from sklearn.preprocessing import LabelEncoder\n",
    "le = LabelEncoder()\n",
    "X['Type'] = le.fit_transform(df['Type'])\n",
    "X['Method'] = le.fit_transform(df['Method'])\n",
    "X['Regionname'] = le.fit_transform(df['Regionname'])"
   ]
  },
  {
   "cell_type": "code",
   "execution_count": null,
   "id": "aa9b2cb8",
   "metadata": {
    "execution": {
     "iopub.execute_input": "2022-02-13T08:05:22.687756Z",
     "iopub.status.busy": "2022-02-13T08:05:22.686863Z",
     "iopub.status.idle": "2022-02-13T08:05:22.745639Z",
     "shell.execute_reply": "2022-02-13T08:05:22.746052Z",
     "shell.execute_reply.started": "2022-02-13T08:03:13.267406Z"
    },
    "papermill": {
     "duration": 0.085604,
     "end_time": "2022-02-13T08:05:22.746214",
     "exception": false,
     "start_time": "2022-02-13T08:05:22.660610",
     "status": "completed"
    },
    "tags": []
   },
   "outputs": [],
   "source": [
    "#sklearn.model_selectionf\n",
    "from sklearn.model_selection import train_test_split\n",
    "X_train, X_test, y_train, y_test = train_test_split(X, y, test_size=0.2, random_state=56)\n",
    "X_train.shape, X_test.shape #((10864, 12), (2716, 12))\n",
    "y_train.shape, y_test.shape #((10864,), (2716,))"
   ]
  },
  {
   "cell_type": "code",
   "execution_count": null,
   "id": "e7799af0",
   "metadata": {
    "execution": {
     "iopub.execute_input": "2022-02-13T08:05:22.843108Z",
     "iopub.status.busy": "2022-02-13T08:05:22.842540Z",
     "iopub.status.idle": "2022-02-13T08:05:22.847155Z",
     "shell.execute_reply": "2022-02-13T08:05:22.847593Z",
     "shell.execute_reply.started": "2022-02-13T08:03:54.363895Z"
    },
    "papermill": {
     "duration": 0.031038,
     "end_time": "2022-02-13T08:05:22.847756",
     "exception": false,
     "start_time": "2022-02-13T08:05:22.816718",
     "status": "completed"
    },
    "tags": []
   },
   "outputs": [],
   "source": [
    "y = df['Price']\n",
    "\n",
    "from sklearn.model_selection import train_test_split\n",
    "X_train, X_test, y_train, y_test = train_test_split(X, y, test_size=0.2, random_state=56)\n",
    "\n",
    "from sklearn.tree import DecisionTreeRegressor\n",
    "dtr = DecisionTreeRegressor()\n",
    "dtr.fit(X_train, y_train)\n",
    "dtr_prediction = dtr.predict(X_test)\n",
    "\n",
    "from sklearn.metrics import mean_absolute_error\n",
    "mae = mean_absolute_error(y_test, dtr_prediction)\n",
    "mae"
   ]
  },
  {
   "cell_type": "code",
   "execution_count": null,
   "id": "99956a65",
   "metadata": {
    "execution": {
     "iopub.execute_input": "2022-02-13T08:05:22.898206Z",
     "iopub.status.busy": "2022-02-13T08:05:22.897661Z",
     "iopub.status.idle": "2022-02-13T08:05:22.902274Z",
     "shell.execute_reply": "2022-02-13T08:05:22.902735Z",
     "shell.execute_reply.started": "2022-02-13T08:04:14.301716Z"
    },
    "papermill": {
     "duration": 0.031041,
     "end_time": "2022-02-13T08:05:22.902899",
     "exception": false,
     "start_time": "2022-02-13T08:05:22.871858",
     "status": "completed"
    },
    "tags": []
   },
   "outputs": [],
   "source": [
    "#RandomForestRegressor\n",
    "from sklearn.ensemble import RandomForestRegressor\n",
    "\n",
    "def rf_mae(X_train, X_test, y_train, y_test):\n",
    "\trfr = RandomForestRegressor()\n",
    "\trfr.fit(X_train, y_train)\n",
    "\tprediction = rfr.predict(X_test)\n",
    "\trfr_mae = mean_absolute_error(y_test, prediction)\n",
    "\treturn rfr_mae\n"
   ]
  }
 ],
 "metadata": {
  "kernelspec": {
   "display_name": ".venv",
   "language": "python",
   "name": "python3"
  },
  "language_info": {
   "codemirror_mode": {
    "name": "ipython",
    "version": 3
   },
   "file_extension": ".py",
   "mimetype": "text/x-python",
   "name": "python",
   "nbconvert_exporter": "python",
   "pygments_lexer": "ipython3",
   "version": "3.12.10"
  },
  "papermill": {
   "default_parameters": {},
   "duration": 12.014794,
   "end_time": "2022-02-13T08:05:23.806820",
   "environment_variables": {},
   "exception": null,
   "input_path": "__notebook__.ipynb",
   "output_path": "__notebook__.ipynb",
   "parameters": {},
   "start_time": "2022-02-13T08:05:11.792026",
   "version": "2.3.3"
  }
 },
 "nbformat": 4,
 "nbformat_minor": 5
}
