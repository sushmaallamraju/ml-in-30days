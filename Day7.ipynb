{
 "cells": [
  {
   "cell_type": "markdown",
   "id": "c47a3b2f",
   "metadata": {},
   "source": [
    "### <p align=\"center\">Titanic Survival Prediction</p>\n"
   ]
  },
  {
   "cell_type": "code",
   "execution_count": null,
   "id": "3985c5f1",
   "metadata": {},
   "outputs": [],
   "source": [
    "import pandas as p"
   ]
  },
  {
   "cell_type": "code",
   "execution_count": null,
   "id": "4602564b",
   "metadata": {},
   "outputs": [],
   "source": [
    "train = p.read_csv('train.csv')\n",
    "test = p.read_csv('test.csv')\n",
    "passengerid = test['PassengerId']"
   ]
  },
  {
   "cell_type": "code",
   "execution_count": null,
   "id": "d657a06c",
   "metadata": {},
   "outputs": [],
   "source": [
    "print(train.columns.tolist())\n"
   ]
  },
  {
   "cell_type": "code",
   "execution_count": null,
   "id": "0c866ab3",
   "metadata": {},
   "outputs": [],
   "source": [
    "train.head() # Gives the first 5 rows of the dataset\n",
    "train.shape # (891, 12)\n",
    "train.isnull().sum()"
   ]
  },
  {
   "cell_type": "code",
   "execution_count": null,
   "id": "b3459552",
   "metadata": {},
   "outputs": [],
   "source": [
    "test.shape # (418, 11)\n",
    "test.isnull().sum()"
   ]
  },
  {
   "cell_type": "code",
   "execution_count": null,
   "id": "cc0eea48",
   "metadata": {},
   "outputs": [],
   "source": [
    "train = train.drop(columns=['Name', 'Cabin'])\n",
    "test = test.drop(columns=['Name', 'Cabin'])"
   ]
  },
  {
   "cell_type": "code",
   "execution_count": null,
   "id": "f5157c5d",
   "metadata": {},
   "outputs": [],
   "source": [
    "train_age_mean = train['Age'].mean()\n",
    "test_age_mean = test['Age'].mean()\n",
    "train['Age'].fillna(train_age_mean, inplace=True)\n",
    "test['Age'].fillna(test_age_mean, inplace=True)"
   ]
  },
  {
   "cell_type": "code",
   "execution_count": null,
   "id": "90e8c7bd",
   "metadata": {},
   "outputs": [],
   "source": [
    "train['Embarked'].fillna(train['Embarked'].mode()[0], inplace=True)"
   ]
  },
  {
   "cell_type": "code",
   "execution_count": null,
   "id": "7db52c35",
   "metadata": {},
   "outputs": [],
   "source": [
    "train.drop(columns='PassengerId', inplace=True)\n",
    "test.drop(columns='PassengerId', inplace=True)"
   ]
  },
  {
   "cell_type": "code",
   "execution_count": null,
   "id": "678577ac",
   "metadata": {},
   "outputs": [],
   "source": [
    "#EDA\n",
    "Pclass_count = train.Pclass.value_counts()\n",
    "Pclass_count.plot(kind='bar', xlabel='Pclass', ylabel='Count')"
   ]
  },
  {
   "cell_type": "code",
   "execution_count": null,
   "id": "80c1d651",
   "metadata": {},
   "outputs": [],
   "source": [
    "sex_count = train.Sex.value_counts()\n",
    "sex_count.plot(kind='bar', xlabel='Sex', ylabel='Count')"
   ]
  },
  {
   "cell_type": "code",
   "execution_count": null,
   "id": "0fd2e267",
   "metadata": {},
   "outputs": [],
   "source": [
    "Survived_count = train.Survived.value_counts()\n",
    "Survived_count.plot(kind='bar', xlabel='Survived', ylabel='Count')"
   ]
  },
  {
   "cell_type": "code",
   "execution_count": null,
   "id": "a16b4334",
   "metadata": {},
   "outputs": [],
   "source": [
    "import seaborn as s\n",
    "s.countplot(train, x='Sex', hue='Survived')"
   ]
  },
  {
   "cell_type": "code",
   "execution_count": null,
   "id": "1b72915f",
   "metadata": {},
   "outputs": [],
   "source": [
    "s.countplot(train, x='Pclass', hue='Survived')"
   ]
  },
  {
   "cell_type": "code",
   "execution_count": null,
   "id": "bb702ca7",
   "metadata": {},
   "outputs": [],
   "source": [
    "train['Sex'].replace({'male':1, 'female': 0}, inplace=True)\n",
    "test['Sex'].replace({'male':1, 'female': 0}, inplace=True)\n",
    "train['Embarked'].replace({'S':2, 'C': 1, 'Q':0}, inplace=True)\n",
    "test['Embarked'].replace({'S':2, 'C': 1, 'Q':0}, inplace=True)"
   ]
  },
  {
   "cell_type": "code",
   "execution_count": null,
   "id": "25e85213",
   "metadata": {},
   "outputs": [],
   "source": [
    "print(train.columns.tolist())\n"
   ]
  },
  {
   "cell_type": "code",
   "execution_count": null,
   "id": "89f92400",
   "metadata": {},
   "outputs": [],
   "source": [
    "#drop Ticket column as it is not useful for prediction\n",
    "train.drop(columns='Ticket', inplace=True)\n",
    "test.drop(columns='Ticket', inplace=True)"
   ]
  },
  {
   "cell_type": "code",
   "execution_count": null,
   "id": "9da34a55",
   "metadata": {},
   "outputs": [],
   "source": [
    "#split the train set into features and labels.\n",
    "y = train.Survived.copy()\n",
    "X = train.drop(columns='Survived').copy()"
   ]
  },
  {
   "cell_type": "code",
   "execution_count": null,
   "id": "c53d1db9",
   "metadata": {},
   "outputs": [],
   "source": [
    "#split this further into training and testing sets.\n",
    "from sklearn.model_selection import train_test_split\n",
    "Xtrain, Xtest, ytrain, ytest = train_test_split(X, y, test_size=0.2,random_state=786)"
   ]
  },
  {
   "cell_type": "code",
   "execution_count": null,
   "id": "f16f92a8",
   "metadata": {},
   "outputs": [],
   "source": [
    "#Decision Tree Classifier\n",
    "from sklearn.tree import DecisionTreeClassifier\n",
    "\n",
    "dtc = DecisionTreeClassifier()\n",
    "dtc.fit(Xtrain, ytrain)\n",
    "dtc_prediction = dtc.predict(Xtest)\n",
    "from sklearn.metrics import accuracy_score\n",
    "dtc_score = accuracy_score(ytest, dtc_prediction)\n",
    "dtc_score # 0.7486033519553073 (74% Not bad)"
   ]
  },
  {
   "cell_type": "code",
   "execution_count": null,
   "id": "c5edaeb2",
   "metadata": {},
   "outputs": [],
   "source": [
    "#Random Forest Classifier\n",
    "from sklearn.ensemble import RandomForestClassifier\n",
    "rfc = RandomForestClassifier(max_depth=15)\n",
    "rfc.fit(Xtrain, ytrain)\n",
    "rfc_prediction = rfc.predict(Xtest)\n",
    "rfc_score = accuracy_score(ytest, rfc_prediction)\n",
    "rfc_score # 0.7932960893854749"
   ]
  },
  {
   "cell_type": "code",
   "execution_count": null,
   "id": "ff2af2ba",
   "metadata": {},
   "outputs": [],
   "source": [
    "#Logistic Regression\n",
    "from sklearn.linear_model import LogisticRegression\n",
    "lr = LogisticRegression()\n",
    "lr.fit(Xtrain, ytrain)\n",
    "lr_prediction = lr.predict(Xtest)\n",
    "lr_score = accuracy_score(ytest, lr_prediction)\n",
    "lr_score"
   ]
  }
 ],
 "metadata": {
  "kernelspec": {
   "display_name": ".venv",
   "language": "python",
   "name": "python3"
  },
  "language_info": {
   "codemirror_mode": {
    "name": "ipython",
    "version": 3
   },
   "file_extension": ".py",
   "mimetype": "text/x-python",
   "name": "python",
   "nbconvert_exporter": "python",
   "pygments_lexer": "ipython3",
   "version": "3.12.10"
  }
 },
 "nbformat": 4,
 "nbformat_minor": 5
}
