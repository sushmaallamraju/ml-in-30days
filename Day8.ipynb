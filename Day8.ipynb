{
 "cells": [
  {
   "cell_type": "markdown",
   "id": "00e0522a",
   "metadata": {},
   "source": [
    "### <p align=\"center\">Movie Recommendation System</p>\n"
   ]
  },
  {
   "cell_type": "code",
   "execution_count": null,
   "id": "0b191342",
   "metadata": {},
   "outputs": [],
   "source": [
    "#pandas import\n",
    "import pandas as p\n",
    "movies = p.read_csv('movies.csv')"
   ]
  },
  {
   "cell_type": "code",
   "execution_count": null,
   "id": "e9db5ba2",
   "metadata": {},
   "outputs": [],
   "source": [
    "movies.head()\n",
    "movies.shape\n",
    "movies.isnull().sum()"
   ]
  },
  {
   "cell_type": "code",
   "execution_count": null,
   "id": "7612f523",
   "metadata": {},
   "outputs": [],
   "source": [
    "needed_cols = ['genres', 'keywords', 'tagline', 'cast', 'director']\n",
    "df = movies[needed_cols]"
   ]
  },
  {
   "cell_type": "code",
   "execution_count": null,
   "id": "7ff34439",
   "metadata": {},
   "outputs": [],
   "source": [
    "df.isnull().sum()"
   ]
  },
  {
   "cell_type": "code",
   "execution_count": null,
   "id": "29357716",
   "metadata": {},
   "outputs": [],
   "source": [
    "for col in needed_cols:\n",
    " df[col] = df[col].fillna('')\n",
    " df.isnull().sum()"
   ]
  },
  {
   "cell_type": "code",
   "execution_count": null,
   "id": "d43c4260",
   "metadata": {},
   "outputs": [],
   "source": [
    "combined_cols = df['genres'] + \" \" + df['keywords'] + \" \" + df['tagline']+ \" \" + df['cast'] + \" \" + df['director']"
   ]
  },
  {
   "cell_type": "code",
   "execution_count": null,
   "id": "b131b4f2",
   "metadata": {},
   "outputs": [],
   "source": [
    "combined_cols"
   ]
  },
  {
   "cell_type": "code",
   "execution_count": null,
   "id": "ccf1e8ee",
   "metadata": {},
   "outputs": [],
   "source": [
    "combined_cols[0]"
   ]
  },
  {
   "cell_type": "code",
   "execution_count": null,
   "id": "30849595",
   "metadata": {},
   "outputs": [],
   "source": [
    "from sklearn.feature_extraction.text import TfidfVectorizer\n",
    "\n",
    "vectorizer = TfidfVectorizer()\n",
    "vectorized_combined_cols = vectorizer.fit_transform(combined_cols)\n",
    "\n",
    "print(vectorized_combined_cols)  # Sparse matrix\n"
   ]
  },
  {
   "cell_type": "code",
   "execution_count": null,
   "id": "14495df5",
   "metadata": {},
   "outputs": [],
   "source": [
    "import numpy as n\n",
    "n.set_printoptions(threshold=n.inf)\n",
    "vectorized_combined_cols.toarray()[0]"
   ]
  },
  {
   "cell_type": "code",
   "execution_count": null,
   "id": "ba0f6523",
   "metadata": {},
   "outputs": [],
   "source": [
    "from sklearn.metrics.pairwise import cosine_similarity\n",
    "import numpy as np\n",
    "\n",
    "similarity = cosine_similarity(vectorized_combined_cols)\n",
    "np.set_printoptions(threshold=10)\n",
    "\n",
    "print(similarity)\n"
   ]
  },
  {
   "cell_type": "code",
   "execution_count": null,
   "id": "a1a65b31",
   "metadata": {},
   "outputs": [],
   "source": [
    "similarity.shape"
   ]
  },
  {
   "cell_type": "code",
   "execution_count": null,
   "id": "3d0293d7",
   "metadata": {},
   "outputs": [],
   "source": [
    "movie_titles = movies['title'].tolist()\n",
    "movie_titles"
   ]
  },
  {
   "cell_type": "code",
   "execution_count": null,
   "id": "20e8cc1a",
   "metadata": {},
   "outputs": [],
   "source": [
    "import difflib\n",
    "\n",
    "movie_titles = ['Titanic', 'The Matrix', 'Inception', 'Interstellar']\n",
    "user_input = input(\"Enter your favorite movie to get similar recommendations: \")\n",
    "normalized_titles = [title for title in movie_titles]\n",
    "\n",
    "close_movie_names = difflib.get_close_matches(user_input, normalized_titles, n=5, cutoff=0.4)\n",
    "print(close_movie_names)"
   ]
  },
  {
   "cell_type": "code",
   "execution_count": null,
   "id": "6bf1ba98",
   "metadata": {},
   "outputs": [],
   "source": [
    "close_match = close_movie_names[0]\n",
    "print(close_match)"
   ]
  },
  {
   "cell_type": "code",
   "execution_count": null,
   "id": "9571f4ce",
   "metadata": {},
   "outputs": [],
   "source": [
    "matched_rows = movies[movies.title == close_match]\n",
    "if not matched_rows.empty:\n",
    "    index_of_the_movie = matched_rows['index'].values[0]\n",
    "    print(index_of_the_movie)\n",
    "else:\n",
    "    print(\"Movie not found in dataset.\")\n"
   ]
  },
  {
   "cell_type": "code",
   "execution_count": null,
   "id": "e7a0fe7c",
   "metadata": {},
   "outputs": [],
   "source": [
    "similarity_score = list(enumerate(similarity[index_of_the_movie]))\n",
    "print(similarity_score)"
   ]
  },
  {
   "cell_type": "code",
   "execution_count": null,
   "id": "44cedc5b",
   "metadata": {},
   "outputs": [],
   "source": [
    "sorted_similar_movies = sorted(similarity_score, key = lambda x:x[1],\n",
    "reverse = True)\n",
    "print(sorted_similar_movies)"
   ]
  },
  {
   "cell_type": "code",
   "execution_count": null,
   "id": "2260718f",
   "metadata": {},
   "outputs": [],
   "source": [
    "print('Movies suggested for you : \\n')\n",
    "i = 1\n",
    "for movie in sorted_similar_movies:\n",
    "  index = movie[0]\n",
    "title_from_index = movies[movies.index==index]['title'].values[0]\n",
    "if (i<30):\n",
    "  print(i, '.',title_from_index)\n",
    "i+=1"
   ]
  }
 ],
 "metadata": {
  "kernelspec": {
   "display_name": ".venv",
   "language": "python",
   "name": "python3"
  },
  "language_info": {
   "codemirror_mode": {
    "name": "ipython",
    "version": 3
   },
   "file_extension": ".py",
   "mimetype": "text/x-python",
   "name": "python",
   "nbconvert_exporter": "python",
   "pygments_lexer": "ipython3",
   "version": "3.12.10"
  }
 },
 "nbformat": 4,
 "nbformat_minor": 5
}
