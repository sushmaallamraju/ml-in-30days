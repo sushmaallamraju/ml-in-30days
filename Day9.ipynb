{
 "cells": [
  {
   "cell_type": "markdown",
   "id": "45efe64f",
   "metadata": {},
   "source": [
    "### <p align=\"center\">Diabetes Prediction</p>\n"
   ]
  },
  {
   "cell_type": "code",
   "execution_count": null,
   "id": "c4d8c9fc",
   "metadata": {},
   "outputs": [],
   "source": [
    "#%pip install --upgrade scikit-learn==1.3.2 imbalanced-learn==0.11.0\n",
    "\n",
    "#!pip install --upgrade scikit-learn imbalanced-learn\n",
    "\n",
    "#%pip uninstall scikit-learn imbalanced-learn -y\n",
    "#!pip install scikit-learn==1.3.2 imbalanced-learn==0.11.0\n",
    "\n",
    "%pip install scikit-learn imbalanced-learn pandas matplotlib seaborn xgboost lightgbm catboost\n"
   ]
  },
  {
   "cell_type": "code",
   "execution_count": 3,
   "id": "c12170f3",
   "metadata": {},
   "outputs": [],
   "source": [
    "\n",
    "import pandas as pd  # ✅ Recommended\n",
    "\n",
    "\n"
   ]
  },
  {
   "cell_type": "code",
   "execution_count": 4,
   "id": "d349b94e",
   "metadata": {},
   "outputs": [
    {
     "name": "stdout",
     "output_type": "stream",
     "text": [
      "/usr/local/bin/python3\n"
     ]
    }
   ],
   "source": [
    "import sys\n",
    "print(sys.executable)"
   ]
  },
  {
   "cell_type": "code",
   "execution_count": 9,
   "id": "71e7fddd",
   "metadata": {},
   "outputs": [],
   "source": [
    "import matplotlib.pyplot as plt\n",
    "\n",
    "\n"
   ]
  },
  {
   "cell_type": "code",
   "execution_count": 10,
   "id": "9df485f5",
   "metadata": {},
   "outputs": [],
   "source": [
    "import pandas as pd\n",
    "import pandas as pd\n",
    "import matplotlib.pyplot as plt\n",
    "import seaborn as sns\n",
    "import numpy as np\n",
    "import sklearn\n",
    "import imblearn\n",
    "from scipy.stats import skew\n",
    "from sklearn.feature_selection import f_classif, mutual_info_classif, chi2\n",
    "from scipy.stats import kendalltau\n",
    "from sklearn.preprocessing import LabelEncoder\n",
    "from sklearn.model_selection import train_test_split, GridSearchCV\n",
    "from sklearn.metrics import precision_recall_fscore_support\n",
    "from sklearn.model_selection import cross_val_score\n",
    "from sklearn.preprocessing import StandardScaler\n",
    "from sklearn.metrics import  classification_report\n",
    "from sklearn.metrics import accuracy_score, precision_score, recall_score, f1_score, roc_auc_score, confusion_matrix, ConfusionMatrixDisplay\n",
    "from scipy import stats\n",
    "from sklearn.preprocessing import OneHotEncoder\n",
    "import warnings\n",
    "warnings.filterwarnings('ignore')\n",
    "from sklearn.linear_model import LogisticRegression\n",
    "from sklearn.svm import SVC\n",
    "from sklearn.ensemble import RandomForestClassifier\n",
    "#import xgboost as xgb\n",
    "from imblearn.over_sampling import SMOTE  # For SMOTE"
   ]
  },
  {
   "cell_type": "code",
   "execution_count": null,
   "id": "47b65406",
   "metadata": {},
   "outputs": [],
   "source": [
    "import pandas as pd\n",
    "from sklearn.model_selection import train_test_split\n",
    "\n",
    "# Load the dataset\n",
    "df = pd.read_csv('diabetes.csv')\n",
    "\n",
    "# Split into features and target\n",
    "X = df.drop(columns='Outcome')\n",
    "y = df['Outcome']\n",
    "\n",
    "# Split into training and test sets\n",
    "X_train, X_test, y_train, y_test = train_test_split(X, y, test_size=0.2, random_state=42)\n",
    "\n",
    "# Recombine features and target for saving\n",
    "train_df = pd.concat([X_train, y_train], axis=1)\n",
    "test_df = pd.concat([X_test, y_test], axis=1)\n",
    "\n",
    "# Save to CSV\n",
    "train_df.to_csv('diabetes_train.csv', index=False)\n",
    "test_df.to_csv('diabetes_test.csv', index=False)\n"
   ]
  }
 ],
 "metadata": {
  "kernelspec": {
   "display_name": "Python 3",
   "language": "python",
   "name": "python3"
  },
  "language_info": {
   "codemirror_mode": {
    "name": "ipython",
    "version": 3
   },
   "file_extension": ".py",
   "mimetype": "text/x-python",
   "name": "python",
   "nbconvert_exporter": "python",
   "pygments_lexer": "ipython3",
   "version": "3.12.10"
  }
 },
 "nbformat": 4,
 "nbformat_minor": 5
}
