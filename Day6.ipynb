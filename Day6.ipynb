{
 "cells": [
  {
   "cell_type": "markdown",
   "id": "1fb6ed86",
   "metadata": {},
   "source": [
    "### <p align=\"center\">Heart Disease Prediction</p>\n"
   ]
  },
  {
   "cell_type": "code",
   "execution_count": null,
   "id": "71b8cb64",
   "metadata": {},
   "outputs": [],
   "source": [
    "# Importing necessary libraries\n",
    "import pandas as p\n",
    "df = p.read_csv('dataset_heart.csv')"
   ]
  },
  {
   "cell_type": "code",
   "execution_count": null,
   "id": "416a5c91",
   "metadata": {},
   "outputs": [],
   "source": [
    "#display clolumns in the dataset\n",
    "df.columns"
   ]
  },
  {
   "cell_type": "code",
   "execution_count": null,
   "id": "4e1676e5",
   "metadata": {},
   "outputs": [],
   "source": [
    "#display head of the dataset\n",
    "df.head()"
   ]
  },
  {
   "cell_type": "code",
   "execution_count": null,
   "id": "e5c5a481",
   "metadata": {},
   "outputs": [],
   "source": [
    "# display  shape and info of the dataset\n",
    "df.shape # (270, 14) It's a really really small dataset.\n",
    "df.info()"
   ]
  },
  {
   "cell_type": "code",
   "execution_count": null,
   "id": "b14ec8c6",
   "metadata": {},
   "outputs": [],
   "source": [
    "#display missing values\n",
    "df.isnull().sum()"
   ]
  },
  {
   "cell_type": "code",
   "execution_count": null,
   "id": "d7f6d93f",
   "metadata": {},
   "outputs": [],
   "source": [
    "\n",
    "#display replacement of categorical values with numerical values\n",
    "df['heart disease'] = df['heart disease'].replace({'Presence':1,\n",
    "'Absence':0})"
   ]
  },
  {
   "cell_type": "code",
   "execution_count": null,
   "id": "745a8e48",
   "metadata": {},
   "outputs": [],
   "source": [
    "# Splitting the data into X and y\n",
    "# y is the target variable\n",
    "# X is the feature variables\n",
    "# Here, we are predicting whether a person has heart disease or not.\n",
    "\n",
    "y = df['heart disease']\n",
    "X = df.drop(columns='heart disease')"
   ]
  },
  {
   "cell_type": "code",
   "execution_count": null,
   "id": "5e5f2b13",
   "metadata": {},
   "outputs": [],
   "source": [
    "# Model Building and Evaluation\n",
    "from sklearn.tree import DecisionTreeClassifier\n",
    "from sklearn.ensemble import RandomForestClassifier\n",
    "#from xgboost import XGBClassifier\n",
    "from sklearn.model_selection import cross_val_score\n",
    "\n",
    "dtc_scores = cross_val_score(DecisionTreeClassifier(), X, y, cv=5, scoring='accuracy')\n",
    "print(dtc_scores) \n",
    "print(dtc_scores.mean()) "
   ]
  },
  {
   "cell_type": "code",
   "execution_count": null,
   "id": "fc6c3006",
   "metadata": {},
   "outputs": [],
   "source": [
    "# Model Building and Evaluation with Logistic Regression\n",
    "from sklearn.linear_model import LogisticRegression\n",
    "from sklearn.model_selection import cross_val_score\n",
    "\n",
    "logreg_scores = cross_val_score(LogisticRegression(max_iter=1000), X, y, cv=100, scoring='accuracy')\n",
    "#print(logreg_scores)\n",
    "print(logreg_scores.mean())\n"
   ]
  }
 ],
 "metadata": {
  "kernelspec": {
   "display_name": ".venv",
   "language": "python",
   "name": "python3"
  },
  "language_info": {
   "codemirror_mode": {
    "name": "ipython",
    "version": 3
   },
   "file_extension": ".py",
   "mimetype": "text/x-python",
   "name": "python",
   "nbconvert_exporter": "python",
   "pygments_lexer": "ipython3",
   "version": "3.12.10"
  }
 },
 "nbformat": 4,
 "nbformat_minor": 5
}
