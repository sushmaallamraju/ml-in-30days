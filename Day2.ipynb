{
 "cells": [
  {
   "cell_type": "markdown",
   "id": "d1a387a9",
   "metadata": {},
   "source": [
    "#### Wine Quality Prediction"
   ]
  },
  {
   "cell_type": "code",
   "execution_count": null,
   "id": "dc1ebdd9",
   "metadata": {},
   "outputs": [],
   "source": [
    "#Install required packages\n",
    "%pip install numpy pandas matplotlib seaborn xgboost scikit-learn"
   ]
  },
  {
   "cell_type": "code",
   "execution_count": null,
   "id": "5242393e",
   "metadata": {},
   "outputs": [],
   "source": [
    "#importing necessary libraries\n",
    "import numpy as np\n",
    "import pandas as pd\n",
    "import matplotlib.pyplot as plt\n",
    "import seaborn as sns"
   ]
  },
  {
   "cell_type": "code",
   "execution_count": null,
   "id": "adf71418",
   "metadata": {},
   "outputs": [],
   "source": [
    "#loading the dataset and checking the basic information about the dataset\n",
    "df = pd.read_csv('winequalityN.csv')\n",
    "df.head()\n",
    "df.tail()\n",
    "df.info()\n",
    "df.describe().T\n",
    "df.isnull().sum()\n",
    "df['type'].unique()"
   ]
  },
  {
   "cell_type": "code",
   "execution_count": null,
   "id": "d6639b54",
   "metadata": {},
   "outputs": [],
   "source": [
    "#handling missing values\n",
    "for col in df.columns:\n",
    "    if df[col].isnull().sum() > 0:\n",
    "        df[col] = df[col].fillna(df[col].mean())"
   ]
  },
  {
   "cell_type": "code",
   "execution_count": null,
   "id": "59e1808a",
   "metadata": {},
   "outputs": [],
   "source": [
    "#data visualization\n",
    "\n",
    "df.hist(figsize=(20, 10))"
   ]
  },
  {
   "cell_type": "code",
   "execution_count": null,
   "id": "789c3c3d",
   "metadata": {},
   "outputs": [],
   "source": [
    "# Encode 'type' column to numeric for correlation\n",
    "if df['type'].dtype == 'object':\n",
    "    df['type'] = df['type'].map({'white': 0, 'red': 1})\n",
    "df.corr()"
   ]
  },
  {
   "cell_type": "code",
   "execution_count": null,
   "id": "98ac54d1",
   "metadata": {},
   "outputs": [],
   "source": [
    "# Correlation heatmap   \n",
    "plt.figure(figsize=(20, 10))\n",
    "sns.heatmap(df.corr(), annot=True, cmap='coolwarm', fmt=\".2f\",\n",
    "linewidths=0.5)"
   ]
  },
  {
   "cell_type": "markdown",
   "id": "cdbbfb1b",
   "metadata": {},
   "source": []
  },
  {
   "cell_type": "code",
   "execution_count": null,
   "id": "ba21bee7",
   "metadata": {},
   "outputs": [],
   "source": [
    "#checking unique values in target column\n",
    "df.quality.unique() #array([6, 5, 7, 8, 4, 3, 9])"
   ]
  },
  {
   "cell_type": "code",
   "execution_count": null,
   "id": "ce3b8f3b",
   "metadata": {},
   "outputs": [],
   "source": [
    "# quality column is having multiple values so we will convert it into binary classification\n",
    "df['best quality'] = [1 if x > 5 else 0 for x in df['quality']]"
   ]
  },
  {
   "cell_type": "code",
   "execution_count": null,
   "id": "774e7924",
   "metadata": {},
   "outputs": [],
   "source": [
    "#dropping the original quality column\n",
    "df = df.drop(columns='quality')"
   ]
  },
  {
   "cell_type": "code",
   "execution_count": null,
   "id": "2c3cb2f7",
   "metadata": {},
   "outputs": [],
   "source": [
    "# Encoding categorical variable 'type' using LabelEncoder\n",
    "from sklearn.preprocessing import LabelEncoder\n",
    "le = LabelEncoder()\n",
    "df['type'] = le.fit_transform(df['type'])"
   ]
  },
  {
   "cell_type": "code",
   "execution_count": null,
   "id": "292a187b",
   "metadata": {},
   "outputs": [],
   "source": [
    "#splitting the dataset into train and test\n",
    "y = df['best quality']\n",
    "X = df.drop(columns='best quality')\n",
    "from sklearn.model_selection import train_test_split\n",
    "X_train, X_test, y_train, y_test = train_test_split(X, y, test_size=0.2,random_state=89)\n",
    "X_train.shape, X_test.shape # (5197, 12), (1300, 12))\n",
    "                                                "
   ]
  },
  {
   "cell_type": "code",
   "execution_count": null,
   "id": "5cd0ca64",
   "metadata": {},
   "outputs": [],
   "source": [
    "# Feature Scaling\n",
    "from sklearn.preprocessing import MinMaxScaler\n",
    "norm = MinMaxScaler()\n",
    "X_train = norm.fit_transform(X_train)\n",
    "X_test = norm.fit_transform(X_test)"
   ]
  },
  {
   "cell_type": "code",
   "execution_count": null,
   "id": "a0f09a9d",
   "metadata": {},
   "outputs": [],
   "source": [
    "#model building using Logistic Regression\n",
    "from sklearn.linear_model import LogisticRegression\n",
    "lr_model = LogisticRegression()\n",
    "lr_model.fit(X_train, y_train)\n",
    "lr_prediction = lr_model.predict(X_test)\n",
    "from sklearn.metrics import accuracy_score\n",
    "lr_prediction \n",
    "lr_accuracy = accuracy_score(y_test, lr_prediction)\n",
    "lr_accuracy"
   ]
  },
  {
   "cell_type": "markdown",
   "id": "1b80d417",
   "metadata": {},
   "source": [
    "Finally, I used the Support Vector Classifier.\n"
   ]
  },
  {
   "cell_type": "code",
   "execution_count": null,
   "id": "34dd74c3",
   "metadata": {},
   "outputs": [],
   "source": [
    "#model building using Decision Tree Classifier\n",
    "from sklearn.svm import SVC\n",
    "svc_model = SVC()\n",
    "svc_model.fit(X_train, y_train)\n",
    "svc_prediction = svc_model.predict(X_test)\n",
    "svc_accuracy = accuracy_score(y_test, svc_prediction)\n",
    "svc_accuracy"
   ]
  }
 ],
 "metadata": {
  "kernelspec": {
   "display_name": ".venv",
   "language": "python",
   "name": "python3"
  },
  "language_info": {
   "codemirror_mode": {
    "name": "ipython",
    "version": 3
   },
   "file_extension": ".py",
   "mimetype": "text/x-python",
   "name": "python",
   "nbconvert_exporter": "python",
   "pygments_lexer": "ipython3",
   "version": "3.12.10"
  }
 },
 "nbformat": 4,
 "nbformat_minor": 5
}
