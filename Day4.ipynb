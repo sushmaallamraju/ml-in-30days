{
 "cells": [
  {
   "cell_type": "markdown",
   "id": "785fabdb",
   "metadata": {},
   "source": [
    "### <p align=\"center\">SPAM MAIL PREDICTION using MACHINE LEARNING</p>\n"
   ]
  },
  {
   "cell_type": "markdown",
   "id": "514f2e75",
   "metadata": {
    "papermill": {
     "duration": 0.022613,
     "end_time": "2022-02-13T08:05:20.126038",
     "exception": false,
     "start_time": "2022-02-13T08:05:20.103425",
     "status": "completed"
    },
    "tags": []
   },
   "source": [
    "### Importing the Dependencies"
   ]
  },
  {
   "cell_type": "code",
   "execution_count": 1,
   "id": "7cdb1251",
   "metadata": {
    "_cell_guid": "b1076dfc-b9ad-4769-8c92-a6c4dae69d19",
    "_uuid": "8f2839f25d086af736a60e9eeb907d3b93b6e0e5",
    "execution": {
     "iopub.execute_input": "2022-02-13T08:05:20.174085Z",
     "iopub.status.busy": "2022-02-13T08:05:20.173014Z",
     "iopub.status.idle": "2022-02-13T08:05:21.403813Z",
     "shell.execute_reply": "2022-02-13T08:05:21.403178Z",
     "shell.execute_reply.started": "2022-02-13T07:58:48.338866Z"
    },
    "papermill": {
     "duration": 1.255834,
     "end_time": "2022-02-13T08:05:21.403978",
     "exception": false,
     "start_time": "2022-02-13T08:05:20.148144",
     "status": "completed"
    },
    "tags": []
   },
   "outputs": [],
   "source": [
    "import numpy as np\n",
    "import pandas as pd\n",
    "from sklearn.model_selection import train_test_split\n",
    "from sklearn.feature_extraction.text import TfidfVectorizer\n",
    "from sklearn.linear_model import LogisticRegression\n",
    "from sklearn.metrics import accuracy_score"
   ]
  },
  {
   "cell_type": "markdown",
   "id": "1f556f7e",
   "metadata": {
    "papermill": {
     "duration": 0.020283,
     "end_time": "2022-02-13T08:05:21.445187",
     "exception": false,
     "start_time": "2022-02-13T08:05:21.424904",
     "status": "completed"
    },
    "tags": []
   },
   "source": [
    "### Data Collection & Pre-Processing"
   ]
  },
  {
   "cell_type": "code",
   "execution_count": 7,
   "id": "480f1f1a",
   "metadata": {
    "execution": {
     "iopub.execute_input": "2022-02-13T08:05:21.489223Z",
     "iopub.status.busy": "2022-02-13T08:05:21.488685Z",
     "iopub.status.idle": "2022-02-13T08:05:21.522586Z",
     "shell.execute_reply": "2022-02-13T08:05:21.523108Z",
     "shell.execute_reply.started": "2022-02-13T07:59:35.448758Z"
    },
    "papermill": {
     "duration": 0.0574,
     "end_time": "2022-02-13T08:05:21.523279",
     "exception": false,
     "start_time": "2022-02-13T08:05:21.465879",
     "status": "completed"
    },
    "tags": []
   },
   "outputs": [],
   "source": [
    "df = pd.read_csv('melb_data.csv')\n",
    "\n",
    "pd.set_option('display.max_columns', 100)"
   ]
  },
  {
   "cell_type": "code",
   "execution_count": 10,
   "id": "3a84ecba",
   "metadata": {
    "execution": {
     "iopub.execute_input": "2022-02-13T08:05:21.568741Z",
     "iopub.status.busy": "2022-02-13T08:05:21.568166Z",
     "iopub.status.idle": "2022-02-13T08:05:21.581082Z",
     "shell.execute_reply": "2022-02-13T08:05:21.581542Z",
     "shell.execute_reply.started": "2022-02-13T07:59:47.683154Z"
    },
    "papermill": {
     "duration": 0.036625,
     "end_time": "2022-02-13T08:05:21.581729",
     "exception": false,
     "start_time": "2022-02-13T08:05:21.545104",
     "status": "completed"
    },
    "tags": []
   },
   "outputs": [
    {
     "data": {
      "text/plain": [
       "<bound method NDFrame.head of               Suburb           Address  Rooms Type      Price Method  \\\n",
       "0         Abbotsford      85 Turner St      2    h  1480000.0      S   \n",
       "1         Abbotsford   25 Bloomburg St      2    h  1035000.0      S   \n",
       "2         Abbotsford      5 Charles St      3    h  1465000.0     SP   \n",
       "3         Abbotsford  40 Federation La      3    h   850000.0     PI   \n",
       "4         Abbotsford       55a Park St      4    h  1600000.0     VB   \n",
       "...              ...               ...    ...  ...        ...    ...   \n",
       "13575  Wheelers Hill      12 Strada Cr      4    h  1245000.0      S   \n",
       "13576   Williamstown     77 Merrett Dr      3    h  1031000.0     SP   \n",
       "13577   Williamstown       83 Power St      3    h  1170000.0      S   \n",
       "13578   Williamstown      96 Verdon St      4    h  2500000.0     PI   \n",
       "13579     Yarraville        6 Agnes St      4    h  1285000.0     SP   \n",
       "\n",
       "        SellerG        Date  Distance  Postcode  Bedroom2  Bathroom  Car  \\\n",
       "0        Biggin   3/12/2016       2.5    3067.0       2.0       1.0  1.0   \n",
       "1        Biggin   4/02/2016       2.5    3067.0       2.0       1.0  0.0   \n",
       "2        Biggin   4/03/2017       2.5    3067.0       3.0       2.0  0.0   \n",
       "3        Biggin   4/03/2017       2.5    3067.0       3.0       2.0  1.0   \n",
       "4        Nelson   4/06/2016       2.5    3067.0       3.0       1.0  2.0   \n",
       "...         ...         ...       ...       ...       ...       ...  ...   \n",
       "13575     Barry  26/08/2017      16.7    3150.0       4.0       2.0  2.0   \n",
       "13576  Williams  26/08/2017       6.8    3016.0       3.0       2.0  2.0   \n",
       "13577     Raine  26/08/2017       6.8    3016.0       3.0       2.0  4.0   \n",
       "13578   Sweeney  26/08/2017       6.8    3016.0       4.0       1.0  5.0   \n",
       "13579   Village  26/08/2017       6.3    3013.0       4.0       1.0  1.0   \n",
       "\n",
       "       Landsize  BuildingArea  YearBuilt CouncilArea  Lattitude  Longtitude  \\\n",
       "0         202.0           NaN        NaN       Yarra  -37.79960   144.99840   \n",
       "1         156.0          79.0     1900.0       Yarra  -37.80790   144.99340   \n",
       "2         134.0         150.0     1900.0       Yarra  -37.80930   144.99440   \n",
       "3          94.0           NaN        NaN       Yarra  -37.79690   144.99690   \n",
       "4         120.0         142.0     2014.0       Yarra  -37.80720   144.99410   \n",
       "...         ...           ...        ...         ...        ...         ...   \n",
       "13575     652.0           NaN     1981.0         NaN  -37.90562   145.16761   \n",
       "13576     333.0         133.0     1995.0         NaN  -37.85927   144.87904   \n",
       "13577     436.0           NaN     1997.0         NaN  -37.85274   144.88738   \n",
       "13578     866.0         157.0     1920.0         NaN  -37.85908   144.89299   \n",
       "13579     362.0         112.0     1920.0         NaN  -37.81188   144.88449   \n",
       "\n",
       "                       Regionname  Propertycount  \n",
       "0           Northern Metropolitan         4019.0  \n",
       "1           Northern Metropolitan         4019.0  \n",
       "2           Northern Metropolitan         4019.0  \n",
       "3           Northern Metropolitan         4019.0  \n",
       "4           Northern Metropolitan         4019.0  \n",
       "...                           ...            ...  \n",
       "13575  South-Eastern Metropolitan         7392.0  \n",
       "13576        Western Metropolitan         6380.0  \n",
       "13577        Western Metropolitan         6380.0  \n",
       "13578        Western Metropolitan         6380.0  \n",
       "13579        Western Metropolitan         6543.0  \n",
       "\n",
       "[13580 rows x 21 columns]>"
      ]
     },
     "execution_count": 10,
     "metadata": {},
     "output_type": "execute_result"
    }
   ],
   "source": [
    "df.head\n"
   ]
  },
  {
   "cell_type": "code",
   "execution_count": 12,
   "id": "ba25a2c4",
   "metadata": {
    "execution": {
     "iopub.execute_input": "2022-02-13T08:05:21.627948Z",
     "iopub.status.busy": "2022-02-13T08:05:21.627361Z",
     "iopub.status.idle": "2022-02-13T08:05:21.632494Z",
     "shell.execute_reply": "2022-02-13T08:05:21.633002Z",
     "shell.execute_reply.started": "2022-02-13T07:59:57.015375Z"
    },
    "papermill": {
     "duration": 0.029672,
     "end_time": "2022-02-13T08:05:21.633160",
     "exception": false,
     "start_time": "2022-02-13T08:05:21.603488",
     "status": "completed"
    },
    "tags": []
   },
   "outputs": [
    {
     "data": {
      "text/plain": [
       "Suburb              0\n",
       "Address             0\n",
       "Rooms               0\n",
       "Type                0\n",
       "Price               0\n",
       "Method              0\n",
       "SellerG             0\n",
       "Date                0\n",
       "Distance            0\n",
       "Postcode            0\n",
       "Bedroom2            0\n",
       "Bathroom            0\n",
       "Car                62\n",
       "Landsize            0\n",
       "BuildingArea     6450\n",
       "YearBuilt        5375\n",
       "CouncilArea      1369\n",
       "Lattitude           0\n",
       "Longtitude          0\n",
       "Regionname          0\n",
       "Propertycount       0\n",
       "dtype: int64"
      ]
     },
     "execution_count": 12,
     "metadata": {},
     "output_type": "execute_result"
    }
   ],
   "source": [
    "df.shape #(13580, 21)\n",
    "df.isnull().sum()"
   ]
  },
  {
   "cell_type": "code",
   "execution_count": 13,
   "id": "88284658",
   "metadata": {
    "execution": {
     "iopub.execute_input": "2022-02-13T08:05:21.678322Z",
     "iopub.status.busy": "2022-02-13T08:05:21.677784Z",
     "iopub.status.idle": "2022-02-13T08:05:21.690495Z",
     "shell.execute_reply": "2022-02-13T08:05:21.690973Z",
     "shell.execute_reply.started": "2022-02-13T08:00:03.569672Z"
    },
    "papermill": {
     "duration": 0.036489,
     "end_time": "2022-02-13T08:05:21.691132",
     "exception": false,
     "start_time": "2022-02-13T08:05:21.654643",
     "status": "completed"
    },
    "tags": []
   },
   "outputs": [
    {
     "data": {
      "text/html": [
       "<div>\n",
       "<style scoped>\n",
       "    .dataframe tbody tr th:only-of-type {\n",
       "        vertical-align: middle;\n",
       "    }\n",
       "\n",
       "    .dataframe tbody tr th {\n",
       "        vertical-align: top;\n",
       "    }\n",
       "\n",
       "    .dataframe thead th {\n",
       "        text-align: right;\n",
       "    }\n",
       "</style>\n",
       "<table border=\"1\" class=\"dataframe\">\n",
       "  <thead>\n",
       "    <tr style=\"text-align: right;\">\n",
       "      <th></th>\n",
       "      <th>count</th>\n",
       "      <th>mean</th>\n",
       "      <th>std</th>\n",
       "      <th>min</th>\n",
       "      <th>25%</th>\n",
       "      <th>50%</th>\n",
       "      <th>75%</th>\n",
       "      <th>max</th>\n",
       "    </tr>\n",
       "  </thead>\n",
       "  <tbody>\n",
       "    <tr>\n",
       "      <th>Rooms</th>\n",
       "      <td>13580.0</td>\n",
       "      <td>2.937997e+00</td>\n",
       "      <td>0.955748</td>\n",
       "      <td>1.00000</td>\n",
       "      <td>2.000000</td>\n",
       "      <td>3.000000</td>\n",
       "      <td>3.000000e+00</td>\n",
       "      <td>1.000000e+01</td>\n",
       "    </tr>\n",
       "    <tr>\n",
       "      <th>Price</th>\n",
       "      <td>13580.0</td>\n",
       "      <td>1.075684e+06</td>\n",
       "      <td>639310.724296</td>\n",
       "      <td>85000.00000</td>\n",
       "      <td>650000.000000</td>\n",
       "      <td>903000.000000</td>\n",
       "      <td>1.330000e+06</td>\n",
       "      <td>9.000000e+06</td>\n",
       "    </tr>\n",
       "    <tr>\n",
       "      <th>Distance</th>\n",
       "      <td>13580.0</td>\n",
       "      <td>1.013778e+01</td>\n",
       "      <td>5.868725</td>\n",
       "      <td>0.00000</td>\n",
       "      <td>6.100000</td>\n",
       "      <td>9.200000</td>\n",
       "      <td>1.300000e+01</td>\n",
       "      <td>4.810000e+01</td>\n",
       "    </tr>\n",
       "    <tr>\n",
       "      <th>Postcode</th>\n",
       "      <td>13580.0</td>\n",
       "      <td>3.105302e+03</td>\n",
       "      <td>90.676964</td>\n",
       "      <td>3000.00000</td>\n",
       "      <td>3044.000000</td>\n",
       "      <td>3084.000000</td>\n",
       "      <td>3.148000e+03</td>\n",
       "      <td>3.977000e+03</td>\n",
       "    </tr>\n",
       "    <tr>\n",
       "      <th>Bedroom2</th>\n",
       "      <td>13580.0</td>\n",
       "      <td>2.914728e+00</td>\n",
       "      <td>0.965921</td>\n",
       "      <td>0.00000</td>\n",
       "      <td>2.000000</td>\n",
       "      <td>3.000000</td>\n",
       "      <td>3.000000e+00</td>\n",
       "      <td>2.000000e+01</td>\n",
       "    </tr>\n",
       "    <tr>\n",
       "      <th>Bathroom</th>\n",
       "      <td>13580.0</td>\n",
       "      <td>1.534242e+00</td>\n",
       "      <td>0.691712</td>\n",
       "      <td>0.00000</td>\n",
       "      <td>1.000000</td>\n",
       "      <td>1.000000</td>\n",
       "      <td>2.000000e+00</td>\n",
       "      <td>8.000000e+00</td>\n",
       "    </tr>\n",
       "    <tr>\n",
       "      <th>Car</th>\n",
       "      <td>13518.0</td>\n",
       "      <td>1.610075e+00</td>\n",
       "      <td>0.962634</td>\n",
       "      <td>0.00000</td>\n",
       "      <td>1.000000</td>\n",
       "      <td>2.000000</td>\n",
       "      <td>2.000000e+00</td>\n",
       "      <td>1.000000e+01</td>\n",
       "    </tr>\n",
       "    <tr>\n",
       "      <th>Landsize</th>\n",
       "      <td>13580.0</td>\n",
       "      <td>5.584161e+02</td>\n",
       "      <td>3990.669241</td>\n",
       "      <td>0.00000</td>\n",
       "      <td>177.000000</td>\n",
       "      <td>440.000000</td>\n",
       "      <td>6.510000e+02</td>\n",
       "      <td>4.330140e+05</td>\n",
       "    </tr>\n",
       "    <tr>\n",
       "      <th>BuildingArea</th>\n",
       "      <td>7130.0</td>\n",
       "      <td>1.519676e+02</td>\n",
       "      <td>541.014538</td>\n",
       "      <td>0.00000</td>\n",
       "      <td>93.000000</td>\n",
       "      <td>126.000000</td>\n",
       "      <td>1.740000e+02</td>\n",
       "      <td>4.451500e+04</td>\n",
       "    </tr>\n",
       "    <tr>\n",
       "      <th>YearBuilt</th>\n",
       "      <td>8205.0</td>\n",
       "      <td>1.964684e+03</td>\n",
       "      <td>37.273762</td>\n",
       "      <td>1196.00000</td>\n",
       "      <td>1940.000000</td>\n",
       "      <td>1970.000000</td>\n",
       "      <td>1.999000e+03</td>\n",
       "      <td>2.018000e+03</td>\n",
       "    </tr>\n",
       "    <tr>\n",
       "      <th>Lattitude</th>\n",
       "      <td>13580.0</td>\n",
       "      <td>-3.780920e+01</td>\n",
       "      <td>0.079260</td>\n",
       "      <td>-38.18255</td>\n",
       "      <td>-37.856822</td>\n",
       "      <td>-37.802355</td>\n",
       "      <td>-3.775640e+01</td>\n",
       "      <td>-3.740853e+01</td>\n",
       "    </tr>\n",
       "    <tr>\n",
       "      <th>Longtitude</th>\n",
       "      <td>13580.0</td>\n",
       "      <td>1.449952e+02</td>\n",
       "      <td>0.103916</td>\n",
       "      <td>144.43181</td>\n",
       "      <td>144.929600</td>\n",
       "      <td>145.000100</td>\n",
       "      <td>1.450583e+02</td>\n",
       "      <td>1.455264e+02</td>\n",
       "    </tr>\n",
       "    <tr>\n",
       "      <th>Propertycount</th>\n",
       "      <td>13580.0</td>\n",
       "      <td>7.454417e+03</td>\n",
       "      <td>4378.581772</td>\n",
       "      <td>249.00000</td>\n",
       "      <td>4380.000000</td>\n",
       "      <td>6555.000000</td>\n",
       "      <td>1.033100e+04</td>\n",
       "      <td>2.165000e+04</td>\n",
       "    </tr>\n",
       "  </tbody>\n",
       "</table>\n",
       "</div>"
      ],
      "text/plain": [
       "                 count          mean            std          min  \\\n",
       "Rooms          13580.0  2.937997e+00       0.955748      1.00000   \n",
       "Price          13580.0  1.075684e+06  639310.724296  85000.00000   \n",
       "Distance       13580.0  1.013778e+01       5.868725      0.00000   \n",
       "Postcode       13580.0  3.105302e+03      90.676964   3000.00000   \n",
       "Bedroom2       13580.0  2.914728e+00       0.965921      0.00000   \n",
       "Bathroom       13580.0  1.534242e+00       0.691712      0.00000   \n",
       "Car            13518.0  1.610075e+00       0.962634      0.00000   \n",
       "Landsize       13580.0  5.584161e+02    3990.669241      0.00000   \n",
       "BuildingArea    7130.0  1.519676e+02     541.014538      0.00000   \n",
       "YearBuilt       8205.0  1.964684e+03      37.273762   1196.00000   \n",
       "Lattitude      13580.0 -3.780920e+01       0.079260    -38.18255   \n",
       "Longtitude     13580.0  1.449952e+02       0.103916    144.43181   \n",
       "Propertycount  13580.0  7.454417e+03    4378.581772    249.00000   \n",
       "\n",
       "                         25%            50%           75%           max  \n",
       "Rooms               2.000000       3.000000  3.000000e+00  1.000000e+01  \n",
       "Price          650000.000000  903000.000000  1.330000e+06  9.000000e+06  \n",
       "Distance            6.100000       9.200000  1.300000e+01  4.810000e+01  \n",
       "Postcode         3044.000000    3084.000000  3.148000e+03  3.977000e+03  \n",
       "Bedroom2            2.000000       3.000000  3.000000e+00  2.000000e+01  \n",
       "Bathroom            1.000000       1.000000  2.000000e+00  8.000000e+00  \n",
       "Car                 1.000000       2.000000  2.000000e+00  1.000000e+01  \n",
       "Landsize          177.000000     440.000000  6.510000e+02  4.330140e+05  \n",
       "BuildingArea       93.000000     126.000000  1.740000e+02  4.451500e+04  \n",
       "YearBuilt        1940.000000    1970.000000  1.999000e+03  2.018000e+03  \n",
       "Lattitude         -37.856822     -37.802355 -3.775640e+01 -3.740853e+01  \n",
       "Longtitude        144.929600     145.000100  1.450583e+02  1.455264e+02  \n",
       "Propertycount    4380.000000    6555.000000  1.033100e+04  2.165000e+04  "
      ]
     },
     "execution_count": 13,
     "metadata": {},
     "output_type": "execute_result"
    }
   ],
   "source": [
    "df.describe().T"
   ]
  },
  {
   "cell_type": "code",
   "execution_count": null,
   "id": "4fc63814",
   "metadata": {
    "execution": {
     "iopub.execute_input": "2022-02-13T08:05:21.739301Z",
     "iopub.status.busy": "2022-02-13T08:05:21.738659Z",
     "iopub.status.idle": "2022-02-13T08:05:21.741066Z",
     "shell.execute_reply": "2022-02-13T08:05:21.741496Z",
     "shell.execute_reply.started": "2022-02-13T08:00:13.541288Z"
    },
    "papermill": {
     "duration": 0.02902,
     "end_time": "2022-02-13T08:05:21.741679",
     "exception": false,
     "start_time": "2022-02-13T08:05:21.712659",
     "status": "completed"
    },
    "tags": []
   },
   "outputs": [],
   "source": []
  },
  {
   "cell_type": "markdown",
   "id": "c40fa730",
   "metadata": {
    "papermill": {
     "duration": 0.021833,
     "end_time": "2022-02-13T08:05:21.787833",
     "exception": false,
     "start_time": "2022-02-13T08:05:21.766000",
     "status": "completed"
    },
    "tags": []
   },
   "source": [
    "#### Label Encoding"
   ]
  },
  {
   "cell_type": "code",
   "execution_count": null,
   "id": "74f9dece",
   "metadata": {
    "execution": {
     "iopub.execute_input": "2022-02-13T08:05:21.835400Z",
     "iopub.status.busy": "2022-02-13T08:05:21.834831Z",
     "iopub.status.idle": "2022-02-13T08:05:21.844136Z",
     "shell.execute_reply": "2022-02-13T08:05:21.844537Z",
     "shell.execute_reply.started": "2022-02-13T08:00:32.312819Z"
    },
    "papermill": {
     "duration": 0.034185,
     "end_time": "2022-02-13T08:05:21.844726",
     "exception": false,
     "start_time": "2022-02-13T08:05:21.810541",
     "status": "completed"
    },
    "tags": []
   },
   "outputs": [],
   "source": []
  },
  {
   "cell_type": "markdown",
   "id": "b675ff06",
   "metadata": {
    "papermill": {
     "duration": 0.021613,
     "end_time": "2022-02-13T08:05:21.888215",
     "exception": false,
     "start_time": "2022-02-13T08:05:21.866602",
     "status": "completed"
    },
    "tags": []
   },
   "source": [
    "* spam - 0\n",
    " \n",
    "* ham - 1"
   ]
  },
  {
   "cell_type": "code",
   "execution_count": null,
   "id": "6d9e1363",
   "metadata": {
    "execution": {
     "iopub.execute_input": "2022-02-13T08:05:21.935314Z",
     "iopub.status.busy": "2022-02-13T08:05:21.934734Z",
     "iopub.status.idle": "2022-02-13T08:05:21.939229Z",
     "shell.execute_reply": "2022-02-13T08:05:21.939959Z",
     "shell.execute_reply.started": "2022-02-13T08:00:55.861439Z"
    },
    "papermill": {
     "duration": 0.030064,
     "end_time": "2022-02-13T08:05:21.940186",
     "exception": false,
     "start_time": "2022-02-13T08:05:21.910122",
     "status": "completed"
    },
    "tags": []
   },
   "outputs": [],
   "source": []
  },
  {
   "cell_type": "code",
   "execution_count": null,
   "id": "b922eaa6",
   "metadata": {
    "execution": {
     "iopub.execute_input": "2022-02-13T08:05:22.008478Z",
     "iopub.status.busy": "2022-02-13T08:05:22.004294Z",
     "iopub.status.idle": "2022-02-13T08:05:22.011401Z",
     "shell.execute_reply": "2022-02-13T08:05:22.012050Z",
     "shell.execute_reply.started": "2022-02-13T08:01:03.061297Z"
    },
    "papermill": {
     "duration": 0.040335,
     "end_time": "2022-02-13T08:05:22.012291",
     "exception": false,
     "start_time": "2022-02-13T08:05:21.971956",
     "status": "completed"
    },
    "tags": []
   },
   "outputs": [],
   "source": [
    "print(X)"
   ]
  },
  {
   "cell_type": "code",
   "execution_count": null,
   "id": "4be259a7",
   "metadata": {
    "execution": {
     "iopub.execute_input": "2022-02-13T08:05:22.071261Z",
     "iopub.status.busy": "2022-02-13T08:05:22.070690Z",
     "iopub.status.idle": "2022-02-13T08:05:22.077318Z",
     "shell.execute_reply": "2022-02-13T08:05:22.076835Z",
     "shell.execute_reply.started": "2022-02-13T08:01:15.219638Z"
    },
    "papermill": {
     "duration": 0.034103,
     "end_time": "2022-02-13T08:05:22.077445",
     "exception": false,
     "start_time": "2022-02-13T08:05:22.043342",
     "status": "completed"
    },
    "tags": []
   },
   "outputs": [],
   "source": [
    "print(Y)"
   ]
  },
  {
   "cell_type": "markdown",
   "id": "cf12947d",
   "metadata": {
    "papermill": {
     "duration": 0.022187,
     "end_time": "2022-02-13T08:05:22.122433",
     "exception": false,
     "start_time": "2022-02-13T08:05:22.100246",
     "status": "completed"
    },
    "tags": []
   },
   "source": [
    "### Splitting the data into training data & test data"
   ]
  },
  {
   "cell_type": "code",
   "execution_count": null,
   "id": "5eaab632",
   "metadata": {
    "execution": {
     "iopub.execute_input": "2022-02-13T08:05:22.170416Z",
     "iopub.status.busy": "2022-02-13T08:05:22.169888Z",
     "iopub.status.idle": "2022-02-13T08:05:22.175893Z",
     "shell.execute_reply": "2022-02-13T08:05:22.176409Z",
     "shell.execute_reply.started": "2022-02-13T08:01:43.929447Z"
    },
    "papermill": {
     "duration": 0.031592,
     "end_time": "2022-02-13T08:05:22.176580",
     "exception": false,
     "start_time": "2022-02-13T08:05:22.144988",
     "status": "completed"
    },
    "tags": []
   },
   "outputs": [],
   "source": []
  },
  {
   "cell_type": "code",
   "execution_count": null,
   "id": "a762e1aa",
   "metadata": {
    "execution": {
     "iopub.execute_input": "2022-02-13T08:05:22.226366Z",
     "iopub.status.busy": "2022-02-13T08:05:22.225779Z",
     "iopub.status.idle": "2022-02-13T08:05:22.229141Z",
     "shell.execute_reply": "2022-02-13T08:05:22.229561Z",
     "shell.execute_reply.started": "2022-02-13T08:01:52.704059Z"
    },
    "papermill": {
     "duration": 0.030786,
     "end_time": "2022-02-13T08:05:22.229719",
     "exception": false,
     "start_time": "2022-02-13T08:05:22.198933",
     "status": "completed"
    },
    "tags": []
   },
   "outputs": [],
   "source": []
  },
  {
   "cell_type": "markdown",
   "id": "55295822",
   "metadata": {
    "papermill": {
     "duration": 0.022647,
     "end_time": "2022-02-13T08:05:22.275344",
     "exception": false,
     "start_time": "2022-02-13T08:05:22.252697",
     "status": "completed"
    },
    "tags": []
   },
   "source": [
    "Feature Extraction"
   ]
  },
  {
   "cell_type": "code",
   "execution_count": null,
   "id": "64e5b11b",
   "metadata": {
    "execution": {
     "iopub.execute_input": "2022-02-13T08:05:22.324607Z",
     "iopub.status.busy": "2022-02-13T08:05:22.324055Z",
     "iopub.status.idle": "2022-02-13T08:05:22.425775Z",
     "shell.execute_reply": "2022-02-13T08:05:22.425135Z",
     "shell.execute_reply.started": "2022-02-13T08:02:10.622253Z"
    },
    "papermill": {
     "duration": 0.127765,
     "end_time": "2022-02-13T08:05:22.425918",
     "exception": false,
     "start_time": "2022-02-13T08:05:22.298153",
     "status": "completed"
    },
    "tags": []
   },
   "outputs": [],
   "source": [
    "# transform the text data to feature vectors that can be used as input to the Logistic regression\n",
    "\n",
    "feature_extraction = TfidfVectorizer(min_df = 1, stop_words='english', lowercase=True)\n",
    "\n",
    "X_train_features = feature_extraction.fit_transform(X_train)\n",
    "X_test_features = feature_extraction.transform(X_test)\n",
    "\n",
    "# Y_train and Y_test are already encoded as integers, so no need to convert them again"
   ]
  },
  {
   "cell_type": "code",
   "execution_count": null,
   "id": "6408f606",
   "metadata": {
    "execution": {
     "iopub.execute_input": "2022-02-13T08:05:22.477760Z",
     "iopub.status.busy": "2022-02-13T08:05:22.477107Z",
     "iopub.status.idle": "2022-02-13T08:05:22.479865Z",
     "shell.execute_reply": "2022-02-13T08:05:22.480374Z",
     "shell.execute_reply.started": "2022-02-13T08:02:28.994337Z"
    },
    "papermill": {
     "duration": 0.031435,
     "end_time": "2022-02-13T08:05:22.480534",
     "exception": false,
     "start_time": "2022-02-13T08:05:22.449099",
     "status": "completed"
    },
    "tags": []
   },
   "outputs": [],
   "source": [
    "print(X_train)"
   ]
  },
  {
   "cell_type": "code",
   "execution_count": null,
   "id": "bb5599cd",
   "metadata": {
    "execution": {
     "iopub.execute_input": "2022-02-13T08:05:22.531126Z",
     "iopub.status.busy": "2022-02-13T08:05:22.530278Z",
     "iopub.status.idle": "2022-02-13T08:05:22.535499Z",
     "shell.execute_reply": "2022-02-13T08:05:22.535072Z",
     "shell.execute_reply.started": "2022-02-13T08:02:37.469975Z"
    },
    "papermill": {
     "duration": 0.031952,
     "end_time": "2022-02-13T08:05:22.535679",
     "exception": false,
     "start_time": "2022-02-13T08:05:22.503727",
     "status": "completed"
    },
    "tags": []
   },
   "outputs": [],
   "source": [
    "print(X_train_features)"
   ]
  },
  {
   "cell_type": "markdown",
   "id": "bb530bb2",
   "metadata": {
    "papermill": {
     "duration": 0.023524,
     "end_time": "2022-02-13T08:05:22.582811",
     "exception": false,
     "start_time": "2022-02-13T08:05:22.559287",
     "status": "completed"
    },
    "tags": []
   },
   "source": [
    "### Training the Model\n",
    "\n",
    "Logistic Regression"
   ]
  },
  {
   "cell_type": "code",
   "execution_count": null,
   "id": "000c3761",
   "metadata": {
    "execution": {
     "iopub.execute_input": "2022-02-13T08:05:22.633875Z",
     "iopub.status.busy": "2022-02-13T08:05:22.632986Z",
     "iopub.status.idle": "2022-02-13T08:05:22.636396Z",
     "shell.execute_reply": "2022-02-13T08:05:22.636999Z",
     "shell.execute_reply.started": "2022-02-13T08:03:02.585437Z"
    },
    "papermill": {
     "duration": 0.030561,
     "end_time": "2022-02-13T08:05:22.637155",
     "exception": false,
     "start_time": "2022-02-13T08:05:22.606594",
     "status": "completed"
    },
    "tags": []
   },
   "outputs": [],
   "source": [
    "# Trying with Logistic Regression model\n",
    "model = LogisticRegression()"
   ]
  },
  {
   "cell_type": "code",
   "execution_count": null,
   "id": "aa9b2cb8",
   "metadata": {
    "execution": {
     "iopub.execute_input": "2022-02-13T08:05:22.687756Z",
     "iopub.status.busy": "2022-02-13T08:05:22.686863Z",
     "iopub.status.idle": "2022-02-13T08:05:22.745639Z",
     "shell.execute_reply": "2022-02-13T08:05:22.746052Z",
     "shell.execute_reply.started": "2022-02-13T08:03:13.267406Z"
    },
    "papermill": {
     "duration": 0.085604,
     "end_time": "2022-02-13T08:05:22.746214",
     "exception": false,
     "start_time": "2022-02-13T08:05:22.660610",
     "status": "completed"
    },
    "tags": []
   },
   "outputs": [],
   "source": [
    "# training the Logistic Regression model with the training data\n",
    "model.fit(X_train_features, Y_train)"
   ]
  },
  {
   "cell_type": "markdown",
   "id": "0224da27",
   "metadata": {
    "papermill": {
     "duration": 0.023392,
     "end_time": "2022-02-13T08:05:22.793201",
     "exception": false,
     "start_time": "2022-02-13T08:05:22.769809",
     "status": "completed"
    },
    "tags": []
   },
   "source": [
    "### Evaluating the trained model"
   ]
  },
  {
   "cell_type": "code",
   "execution_count": null,
   "id": "e7799af0",
   "metadata": {
    "execution": {
     "iopub.execute_input": "2022-02-13T08:05:22.843108Z",
     "iopub.status.busy": "2022-02-13T08:05:22.842540Z",
     "iopub.status.idle": "2022-02-13T08:05:22.847155Z",
     "shell.execute_reply": "2022-02-13T08:05:22.847593Z",
     "shell.execute_reply.started": "2022-02-13T08:03:54.363895Z"
    },
    "papermill": {
     "duration": 0.031038,
     "end_time": "2022-02-13T08:05:22.847756",
     "exception": false,
     "start_time": "2022-02-13T08:05:22.816718",
     "status": "completed"
    },
    "tags": []
   },
   "outputs": [],
   "source": [
    "# prediction on training data\n",
    "\n",
    "prediction_on_training_data = model.predict(X_train_features)\n",
    "accuracy_on_training_data = accuracy_score(Y_train, prediction_on_training_data)"
   ]
  },
  {
   "cell_type": "code",
   "execution_count": null,
   "id": "99956a65",
   "metadata": {
    "execution": {
     "iopub.execute_input": "2022-02-13T08:05:22.898206Z",
     "iopub.status.busy": "2022-02-13T08:05:22.897661Z",
     "iopub.status.idle": "2022-02-13T08:05:22.902274Z",
     "shell.execute_reply": "2022-02-13T08:05:22.902735Z",
     "shell.execute_reply.started": "2022-02-13T08:04:14.301716Z"
    },
    "papermill": {
     "duration": 0.031041,
     "end_time": "2022-02-13T08:05:22.902899",
     "exception": false,
     "start_time": "2022-02-13T08:05:22.871858",
     "status": "completed"
    },
    "tags": []
   },
   "outputs": [],
   "source": [
    "print('Accuracy on training data : ', accuracy_on_training_data)"
   ]
  },
  {
   "cell_type": "code",
   "execution_count": null,
   "id": "995e8c4e",
   "metadata": {
    "execution": {
     "iopub.execute_input": "2022-02-13T08:05:22.953622Z",
     "iopub.status.busy": "2022-02-13T08:05:22.953085Z",
     "iopub.status.idle": "2022-02-13T08:05:22.956992Z",
     "shell.execute_reply": "2022-02-13T08:05:22.957488Z",
     "shell.execute_reply.started": "2022-02-13T08:04:20.664735Z"
    },
    "papermill": {
     "duration": 0.030758,
     "end_time": "2022-02-13T08:05:22.957650",
     "exception": false,
     "start_time": "2022-02-13T08:05:22.926892",
     "status": "completed"
    },
    "tags": []
   },
   "outputs": [],
   "source": [
    "# prediction on test data\n",
    "\n",
    "prediction_on_test_data = model.predict(X_test_features)\n",
    "accuracy_on_test_data = accuracy_score(Y_test, prediction_on_test_data)"
   ]
  },
  {
   "cell_type": "code",
   "execution_count": null,
   "id": "a34d5138",
   "metadata": {
    "execution": {
     "iopub.execute_input": "2022-02-13T08:05:23.008249Z",
     "iopub.status.busy": "2022-02-13T08:05:23.007692Z",
     "iopub.status.idle": "2022-02-13T08:05:23.011935Z",
     "shell.execute_reply": "2022-02-13T08:05:23.012393Z",
     "shell.execute_reply.started": "2022-02-13T08:04:35.170854Z"
    },
    "papermill": {
     "duration": 0.031055,
     "end_time": "2022-02-13T08:05:23.012571",
     "exception": false,
     "start_time": "2022-02-13T08:05:22.981516",
     "status": "completed"
    },
    "tags": []
   },
   "outputs": [],
   "source": [
    "print('Accuracy on test data : ', accuracy_on_test_data)"
   ]
  },
  {
   "cell_type": "markdown",
   "id": "aea44e76",
   "metadata": {
    "papermill": {
     "duration": 0.024265,
     "end_time": "2022-02-13T08:05:23.061577",
     "exception": false,
     "start_time": "2022-02-13T08:05:23.037312",
     "status": "completed"
    },
    "tags": []
   },
   "source": [
    "### Building a Predictive System"
   ]
  },
  {
   "cell_type": "code",
   "execution_count": null,
   "id": "1e8754b7",
   "metadata": {
    "execution": {
     "iopub.execute_input": "2022-02-13T08:05:23.113045Z",
     "iopub.status.busy": "2022-02-13T08:05:23.112483Z",
     "iopub.status.idle": "2022-02-13T08:05:23.120259Z",
     "shell.execute_reply": "2022-02-13T08:05:23.119785Z",
     "shell.execute_reply.started": "2022-02-13T08:04:56.365121Z"
    },
    "papermill": {
     "duration": 0.034324,
     "end_time": "2022-02-13T08:05:23.120386",
     "exception": false,
     "start_time": "2022-02-13T08:05:23.086062",
     "status": "completed"
    },
    "tags": []
   },
   "outputs": [],
   "source": [
    "#input_mail = [\"I've been searching for the right words to thank you for this breather. I promise i wont take your help for granted and will fulfil my promise. You have been wonderful and a blessing at all times\"]\n",
    "#input_mail = [\"Congratulations! You've won a $1,000 Walmart gift card. Click here to claim your prize.\"]\n",
    "#input_mail = [\"Free entry in 2 a weekly competition to win FA Cup final tkts 21st May 2005. Text FA to 87121 to receive entry question(std txt rate)T&C's apply 08452810075over18's\"]\n",
    "input_mail = [\"Upto 20% discount on parking, exclusive offers on restaurants, shopping & more.\"]\n",
    "\n",
    "# convert text to feature vectors\n",
    "input_data_features = feature_extraction.transform(input_mail)\n",
    "\n",
    "# making prediction\n",
    "\n",
    "prediction = model.predict(input_data_features)\n",
    "print(prediction)\n",
    "\n",
    "\n",
    "if (prediction[0]==1):\n",
    "  print('Ham mail')\n",
    "\n",
    "else:\n",
    "  print('Spam mail')"
   ]
  },
  {
   "cell_type": "code",
   "execution_count": null,
   "id": "114805e9",
   "metadata": {
    "papermill": {
     "duration": 0.024356,
     "end_time": "2022-02-13T08:05:23.170108",
     "exception": false,
     "start_time": "2022-02-13T08:05:23.145752",
     "status": "completed"
    },
    "tags": []
   },
   "outputs": [],
   "source": []
  }
 ],
 "metadata": {
  "kernelspec": {
   "display_name": ".venv",
   "language": "python",
   "name": "python3"
  },
  "language_info": {
   "codemirror_mode": {
    "name": "ipython",
    "version": 3
   },
   "file_extension": ".py",
   "mimetype": "text/x-python",
   "name": "python",
   "nbconvert_exporter": "python",
   "pygments_lexer": "ipython3",
   "version": "3.12.10"
  },
  "papermill": {
   "default_parameters": {},
   "duration": 12.014794,
   "end_time": "2022-02-13T08:05:23.806820",
   "environment_variables": {},
   "exception": null,
   "input_path": "__notebook__.ipynb",
   "output_path": "__notebook__.ipynb",
   "parameters": {},
   "start_time": "2022-02-13T08:05:11.792026",
   "version": "2.3.3"
  }
 },
 "nbformat": 4,
 "nbformat_minor": 5
}
