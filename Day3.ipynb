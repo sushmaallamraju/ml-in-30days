{
 "cells": [
  {
   "cell_type": "markdown",
   "id": "785fabdb",
   "metadata": {},
   "source": [
    "### <p align=\"center\">SPAM MAIL PREDICTION using MACHINE LEARNING</p>\n"
   ]
  },
  {
   "cell_type": "markdown",
   "id": "514f2e75",
   "metadata": {
    "papermill": {
     "duration": 0.022613,
     "end_time": "2022-02-13T08:05:20.126038",
     "exception": false,
     "start_time": "2022-02-13T08:05:20.103425",
     "status": "completed"
    },
    "tags": []
   },
   "source": [
    "### Importing the Dependencies"
   ]
  },
  {
   "cell_type": "code",
   "execution_count": null,
   "id": "7cdb1251",
   "metadata": {
    "_cell_guid": "b1076dfc-b9ad-4769-8c92-a6c4dae69d19",
    "_uuid": "8f2839f25d086af736a60e9eeb907d3b93b6e0e5",
    "execution": {
     "iopub.execute_input": "2022-02-13T08:05:20.174085Z",
     "iopub.status.busy": "2022-02-13T08:05:20.173014Z",
     "iopub.status.idle": "2022-02-13T08:05:21.403813Z",
     "shell.execute_reply": "2022-02-13T08:05:21.403178Z",
     "shell.execute_reply.started": "2022-02-13T07:58:48.338866Z"
    },
    "papermill": {
     "duration": 1.255834,
     "end_time": "2022-02-13T08:05:21.403978",
     "exception": false,
     "start_time": "2022-02-13T08:05:20.148144",
     "status": "completed"
    },
    "tags": []
   },
   "outputs": [],
   "source": [
    "import numpy as np\n",
    "import pandas as pd\n",
    "from sklearn.model_selection import train_test_split\n",
    "from sklearn.feature_extraction.text import TfidfVectorizer\n",
    "from sklearn.linear_model import LogisticRegression\n",
    "from sklearn.metrics import accuracy_score"
   ]
  },
  {
   "cell_type": "markdown",
   "id": "1f556f7e",
   "metadata": {
    "papermill": {
     "duration": 0.020283,
     "end_time": "2022-02-13T08:05:21.445187",
     "exception": false,
     "start_time": "2022-02-13T08:05:21.424904",
     "status": "completed"
    },
    "tags": []
   },
   "source": [
    "### Data Collection & Pre-Processing"
   ]
  },
  {
   "cell_type": "code",
   "execution_count": null,
   "id": "480f1f1a",
   "metadata": {
    "execution": {
     "iopub.execute_input": "2022-02-13T08:05:21.489223Z",
     "iopub.status.busy": "2022-02-13T08:05:21.488685Z",
     "iopub.status.idle": "2022-02-13T08:05:21.522586Z",
     "shell.execute_reply": "2022-02-13T08:05:21.523108Z",
     "shell.execute_reply.started": "2022-02-13T07:59:35.448758Z"
    },
    "papermill": {
     "duration": 0.0574,
     "end_time": "2022-02-13T08:05:21.523279",
     "exception": false,
     "start_time": "2022-02-13T08:05:21.465879",
     "status": "completed"
    },
    "tags": []
   },
   "outputs": [],
   "source": [
    "# loading the data from csv file to a pandas Dataframe\n",
    "raw_mail_data = pd.read_csv('mail_data.csv')"
   ]
  },
  {
   "cell_type": "code",
   "execution_count": null,
   "id": "3a84ecba",
   "metadata": {
    "execution": {
     "iopub.execute_input": "2022-02-13T08:05:21.568741Z",
     "iopub.status.busy": "2022-02-13T08:05:21.568166Z",
     "iopub.status.idle": "2022-02-13T08:05:21.581082Z",
     "shell.execute_reply": "2022-02-13T08:05:21.581542Z",
     "shell.execute_reply.started": "2022-02-13T07:59:47.683154Z"
    },
    "papermill": {
     "duration": 0.036625,
     "end_time": "2022-02-13T08:05:21.581729",
     "exception": false,
     "start_time": "2022-02-13T08:05:21.545104",
     "status": "completed"
    },
    "tags": []
   },
   "outputs": [],
   "source": [
    "print(raw_mail_data)"
   ]
  },
  {
   "cell_type": "code",
   "execution_count": null,
   "id": "ba25a2c4",
   "metadata": {
    "execution": {
     "iopub.execute_input": "2022-02-13T08:05:21.627948Z",
     "iopub.status.busy": "2022-02-13T08:05:21.627361Z",
     "iopub.status.idle": "2022-02-13T08:05:21.632494Z",
     "shell.execute_reply": "2022-02-13T08:05:21.633002Z",
     "shell.execute_reply.started": "2022-02-13T07:59:57.015375Z"
    },
    "papermill": {
     "duration": 0.029672,
     "end_time": "2022-02-13T08:05:21.633160",
     "exception": false,
     "start_time": "2022-02-13T08:05:21.603488",
     "status": "completed"
    },
    "tags": []
   },
   "outputs": [],
   "source": [
    "# replace the null values with a null string\n",
    "mail_data = raw_mail_data.where((pd.notnull(raw_mail_data)),'')"
   ]
  },
  {
   "cell_type": "code",
   "execution_count": null,
   "id": "88284658",
   "metadata": {
    "execution": {
     "iopub.execute_input": "2022-02-13T08:05:21.678322Z",
     "iopub.status.busy": "2022-02-13T08:05:21.677784Z",
     "iopub.status.idle": "2022-02-13T08:05:21.690495Z",
     "shell.execute_reply": "2022-02-13T08:05:21.690973Z",
     "shell.execute_reply.started": "2022-02-13T08:00:03.569672Z"
    },
    "papermill": {
     "duration": 0.036489,
     "end_time": "2022-02-13T08:05:21.691132",
     "exception": false,
     "start_time": "2022-02-13T08:05:21.654643",
     "status": "completed"
    },
    "tags": []
   },
   "outputs": [],
   "source": [
    "# printing the first 5 rows of the dataframe\n",
    "mail_data.head()"
   ]
  },
  {
   "cell_type": "code",
   "execution_count": null,
   "id": "4fc63814",
   "metadata": {
    "execution": {
     "iopub.execute_input": "2022-02-13T08:05:21.739301Z",
     "iopub.status.busy": "2022-02-13T08:05:21.738659Z",
     "iopub.status.idle": "2022-02-13T08:05:21.741066Z",
     "shell.execute_reply": "2022-02-13T08:05:21.741496Z",
     "shell.execute_reply.started": "2022-02-13T08:00:13.541288Z"
    },
    "papermill": {
     "duration": 0.02902,
     "end_time": "2022-02-13T08:05:21.741679",
     "exception": false,
     "start_time": "2022-02-13T08:05:21.712659",
     "status": "completed"
    },
    "tags": []
   },
   "outputs": [],
   "source": [
    "# checking the number of rows and columns in the dataframe\n",
    "mail_data.shape"
   ]
  },
  {
   "cell_type": "markdown",
   "id": "c40fa730",
   "metadata": {
    "papermill": {
     "duration": 0.021833,
     "end_time": "2022-02-13T08:05:21.787833",
     "exception": false,
     "start_time": "2022-02-13T08:05:21.766000",
     "status": "completed"
    },
    "tags": []
   },
   "source": [
    "#### Label Encoding"
   ]
  },
  {
   "cell_type": "code",
   "execution_count": null,
   "id": "74f9dece",
   "metadata": {
    "execution": {
     "iopub.execute_input": "2022-02-13T08:05:21.835400Z",
     "iopub.status.busy": "2022-02-13T08:05:21.834831Z",
     "iopub.status.idle": "2022-02-13T08:05:21.844136Z",
     "shell.execute_reply": "2022-02-13T08:05:21.844537Z",
     "shell.execute_reply.started": "2022-02-13T08:00:32.312819Z"
    },
    "papermill": {
     "duration": 0.034185,
     "end_time": "2022-02-13T08:05:21.844726",
     "exception": false,
     "start_time": "2022-02-13T08:05:21.810541",
     "status": "completed"
    },
    "tags": []
   },
   "outputs": [],
   "source": [
    "# label spam mail as 0;  ham mail as 1;\n",
    "# converting the categorical values to numerical values\n",
    "\n",
    "mail_data.loc[mail_data['Category'] == 'spam', 'Category',] = 0\n",
    "mail_data.loc[mail_data['Category'] == 'ham', 'Category',] = 1"
   ]
  },
  {
   "cell_type": "markdown",
   "id": "b675ff06",
   "metadata": {
    "papermill": {
     "duration": 0.021613,
     "end_time": "2022-02-13T08:05:21.888215",
     "exception": false,
     "start_time": "2022-02-13T08:05:21.866602",
     "status": "completed"
    },
    "tags": []
   },
   "source": [
    "* spam - 0\n",
    " \n",
    "* ham - 1"
   ]
  },
  {
   "cell_type": "code",
   "execution_count": null,
   "id": "6d9e1363",
   "metadata": {
    "execution": {
     "iopub.execute_input": "2022-02-13T08:05:21.935314Z",
     "iopub.status.busy": "2022-02-13T08:05:21.934734Z",
     "iopub.status.idle": "2022-02-13T08:05:21.939229Z",
     "shell.execute_reply": "2022-02-13T08:05:21.939959Z",
     "shell.execute_reply.started": "2022-02-13T08:00:55.861439Z"
    },
    "papermill": {
     "duration": 0.030064,
     "end_time": "2022-02-13T08:05:21.940186",
     "exception": false,
     "start_time": "2022-02-13T08:05:21.910122",
     "status": "completed"
    },
    "tags": []
   },
   "outputs": [],
   "source": [
    "# separating the data as texts and label\n",
    "\n",
    "X = mail_data['Message']\n",
    "\n",
    "Y = mail_data['Category']"
   ]
  },
  {
   "cell_type": "code",
   "execution_count": null,
   "id": "b922eaa6",
   "metadata": {
    "execution": {
     "iopub.execute_input": "2022-02-13T08:05:22.008478Z",
     "iopub.status.busy": "2022-02-13T08:05:22.004294Z",
     "iopub.status.idle": "2022-02-13T08:05:22.011401Z",
     "shell.execute_reply": "2022-02-13T08:05:22.012050Z",
     "shell.execute_reply.started": "2022-02-13T08:01:03.061297Z"
    },
    "papermill": {
     "duration": 0.040335,
     "end_time": "2022-02-13T08:05:22.012291",
     "exception": false,
     "start_time": "2022-02-13T08:05:21.971956",
     "status": "completed"
    },
    "tags": []
   },
   "outputs": [],
   "source": [
    "print(X)"
   ]
  },
  {
   "cell_type": "code",
   "execution_count": null,
   "id": "4be259a7",
   "metadata": {
    "execution": {
     "iopub.execute_input": "2022-02-13T08:05:22.071261Z",
     "iopub.status.busy": "2022-02-13T08:05:22.070690Z",
     "iopub.status.idle": "2022-02-13T08:05:22.077318Z",
     "shell.execute_reply": "2022-02-13T08:05:22.076835Z",
     "shell.execute_reply.started": "2022-02-13T08:01:15.219638Z"
    },
    "papermill": {
     "duration": 0.034103,
     "end_time": "2022-02-13T08:05:22.077445",
     "exception": false,
     "start_time": "2022-02-13T08:05:22.043342",
     "status": "completed"
    },
    "tags": []
   },
   "outputs": [],
   "source": [
    "print(Y)"
   ]
  },
  {
   "cell_type": "markdown",
   "id": "cf12947d",
   "metadata": {
    "papermill": {
     "duration": 0.022187,
     "end_time": "2022-02-13T08:05:22.122433",
     "exception": false,
     "start_time": "2022-02-13T08:05:22.100246",
     "status": "completed"
    },
    "tags": []
   },
   "source": [
    "### Splitting the data into training data & test data"
   ]
  },
  {
   "cell_type": "code",
   "execution_count": null,
   "id": "5eaab632",
   "metadata": {
    "execution": {
     "iopub.execute_input": "2022-02-13T08:05:22.170416Z",
     "iopub.status.busy": "2022-02-13T08:05:22.169888Z",
     "iopub.status.idle": "2022-02-13T08:05:22.175893Z",
     "shell.execute_reply": "2022-02-13T08:05:22.176409Z",
     "shell.execute_reply.started": "2022-02-13T08:01:43.929447Z"
    },
    "papermill": {
     "duration": 0.031592,
     "end_time": "2022-02-13T08:05:22.176580",
     "exception": false,
     "start_time": "2022-02-13T08:05:22.144988",
     "status": "completed"
    },
    "tags": []
   },
   "outputs": [],
   "source": [
    "X_train, X_test, Y_train, Y_test = train_test_split(X, Y, test_size=0.2, random_state=3)"
   ]
  },
  {
   "cell_type": "code",
   "execution_count": null,
   "id": "a762e1aa",
   "metadata": {
    "execution": {
     "iopub.execute_input": "2022-02-13T08:05:22.226366Z",
     "iopub.status.busy": "2022-02-13T08:05:22.225779Z",
     "iopub.status.idle": "2022-02-13T08:05:22.229141Z",
     "shell.execute_reply": "2022-02-13T08:05:22.229561Z",
     "shell.execute_reply.started": "2022-02-13T08:01:52.704059Z"
    },
    "papermill": {
     "duration": 0.030786,
     "end_time": "2022-02-13T08:05:22.229719",
     "exception": false,
     "start_time": "2022-02-13T08:05:22.198933",
     "status": "completed"
    },
    "tags": []
   },
   "outputs": [],
   "source": [
    "print(X.shape)\n",
    "print(X_train.shape)\n",
    "print(X_test.shape)"
   ]
  },
  {
   "cell_type": "markdown",
   "id": "55295822",
   "metadata": {
    "papermill": {
     "duration": 0.022647,
     "end_time": "2022-02-13T08:05:22.275344",
     "exception": false,
     "start_time": "2022-02-13T08:05:22.252697",
     "status": "completed"
    },
    "tags": []
   },
   "source": [
    "Feature Extraction"
   ]
  },
  {
   "cell_type": "code",
   "execution_count": null,
   "id": "64e5b11b",
   "metadata": {
    "execution": {
     "iopub.execute_input": "2022-02-13T08:05:22.324607Z",
     "iopub.status.busy": "2022-02-13T08:05:22.324055Z",
     "iopub.status.idle": "2022-02-13T08:05:22.425775Z",
     "shell.execute_reply": "2022-02-13T08:05:22.425135Z",
     "shell.execute_reply.started": "2022-02-13T08:02:10.622253Z"
    },
    "papermill": {
     "duration": 0.127765,
     "end_time": "2022-02-13T08:05:22.425918",
     "exception": false,
     "start_time": "2022-02-13T08:05:22.298153",
     "status": "completed"
    },
    "tags": []
   },
   "outputs": [],
   "source": [
    "# transform the text data to feature vectors that can be used as input to the Logistic regression\n",
    "\n",
    "feature_extraction = TfidfVectorizer(min_df = 1, stop_words='english', lowercase=True)\n",
    "\n",
    "X_train_features = feature_extraction.fit_transform(X_train)\n",
    "X_test_features = feature_extraction.transform(X_test)\n",
    "\n",
    "# Y_train and Y_test are already encoded as integers, so no need to convert them again"
   ]
  },
  {
   "cell_type": "code",
   "execution_count": null,
   "id": "6408f606",
   "metadata": {
    "execution": {
     "iopub.execute_input": "2022-02-13T08:05:22.477760Z",
     "iopub.status.busy": "2022-02-13T08:05:22.477107Z",
     "iopub.status.idle": "2022-02-13T08:05:22.479865Z",
     "shell.execute_reply": "2022-02-13T08:05:22.480374Z",
     "shell.execute_reply.started": "2022-02-13T08:02:28.994337Z"
    },
    "papermill": {
     "duration": 0.031435,
     "end_time": "2022-02-13T08:05:22.480534",
     "exception": false,
     "start_time": "2022-02-13T08:05:22.449099",
     "status": "completed"
    },
    "tags": []
   },
   "outputs": [],
   "source": [
    "print(X_train)"
   ]
  },
  {
   "cell_type": "code",
   "execution_count": null,
   "id": "bb5599cd",
   "metadata": {
    "execution": {
     "iopub.execute_input": "2022-02-13T08:05:22.531126Z",
     "iopub.status.busy": "2022-02-13T08:05:22.530278Z",
     "iopub.status.idle": "2022-02-13T08:05:22.535499Z",
     "shell.execute_reply": "2022-02-13T08:05:22.535072Z",
     "shell.execute_reply.started": "2022-02-13T08:02:37.469975Z"
    },
    "papermill": {
     "duration": 0.031952,
     "end_time": "2022-02-13T08:05:22.535679",
     "exception": false,
     "start_time": "2022-02-13T08:05:22.503727",
     "status": "completed"
    },
    "tags": []
   },
   "outputs": [],
   "source": [
    "print(X_train_features)"
   ]
  },
  {
   "cell_type": "markdown",
   "id": "bb530bb2",
   "metadata": {
    "papermill": {
     "duration": 0.023524,
     "end_time": "2022-02-13T08:05:22.582811",
     "exception": false,
     "start_time": "2022-02-13T08:05:22.559287",
     "status": "completed"
    },
    "tags": []
   },
   "source": [
    "### Training the Model\n",
    "\n",
    "Logistic Regression"
   ]
  },
  {
   "cell_type": "code",
   "execution_count": null,
   "id": "000c3761",
   "metadata": {
    "execution": {
     "iopub.execute_input": "2022-02-13T08:05:22.633875Z",
     "iopub.status.busy": "2022-02-13T08:05:22.632986Z",
     "iopub.status.idle": "2022-02-13T08:05:22.636396Z",
     "shell.execute_reply": "2022-02-13T08:05:22.636999Z",
     "shell.execute_reply.started": "2022-02-13T08:03:02.585437Z"
    },
    "papermill": {
     "duration": 0.030561,
     "end_time": "2022-02-13T08:05:22.637155",
     "exception": false,
     "start_time": "2022-02-13T08:05:22.606594",
     "status": "completed"
    },
    "tags": []
   },
   "outputs": [],
   "source": [
    "# Trying with Logistic Regression model\n",
    "model = LogisticRegression()"
   ]
  },
  {
   "cell_type": "code",
   "execution_count": null,
   "id": "aa9b2cb8",
   "metadata": {
    "execution": {
     "iopub.execute_input": "2022-02-13T08:05:22.687756Z",
     "iopub.status.busy": "2022-02-13T08:05:22.686863Z",
     "iopub.status.idle": "2022-02-13T08:05:22.745639Z",
     "shell.execute_reply": "2022-02-13T08:05:22.746052Z",
     "shell.execute_reply.started": "2022-02-13T08:03:13.267406Z"
    },
    "papermill": {
     "duration": 0.085604,
     "end_time": "2022-02-13T08:05:22.746214",
     "exception": false,
     "start_time": "2022-02-13T08:05:22.660610",
     "status": "completed"
    },
    "tags": []
   },
   "outputs": [],
   "source": [
    "# training the Logistic Regression model with the training data\n",
    "model.fit(X_train_features, Y_train)"
   ]
  },
  {
   "cell_type": "markdown",
   "id": "0224da27",
   "metadata": {
    "papermill": {
     "duration": 0.023392,
     "end_time": "2022-02-13T08:05:22.793201",
     "exception": false,
     "start_time": "2022-02-13T08:05:22.769809",
     "status": "completed"
    },
    "tags": []
   },
   "source": [
    "### Evaluating the trained model"
   ]
  },
  {
   "cell_type": "code",
   "execution_count": null,
   "id": "e7799af0",
   "metadata": {
    "execution": {
     "iopub.execute_input": "2022-02-13T08:05:22.843108Z",
     "iopub.status.busy": "2022-02-13T08:05:22.842540Z",
     "iopub.status.idle": "2022-02-13T08:05:22.847155Z",
     "shell.execute_reply": "2022-02-13T08:05:22.847593Z",
     "shell.execute_reply.started": "2022-02-13T08:03:54.363895Z"
    },
    "papermill": {
     "duration": 0.031038,
     "end_time": "2022-02-13T08:05:22.847756",
     "exception": false,
     "start_time": "2022-02-13T08:05:22.816718",
     "status": "completed"
    },
    "tags": []
   },
   "outputs": [],
   "source": [
    "# prediction on training data\n",
    "\n",
    "prediction_on_training_data = model.predict(X_train_features)\n",
    "accuracy_on_training_data = accuracy_score(Y_train, prediction_on_training_data)"
   ]
  },
  {
   "cell_type": "code",
   "execution_count": null,
   "id": "99956a65",
   "metadata": {
    "execution": {
     "iopub.execute_input": "2022-02-13T08:05:22.898206Z",
     "iopub.status.busy": "2022-02-13T08:05:22.897661Z",
     "iopub.status.idle": "2022-02-13T08:05:22.902274Z",
     "shell.execute_reply": "2022-02-13T08:05:22.902735Z",
     "shell.execute_reply.started": "2022-02-13T08:04:14.301716Z"
    },
    "papermill": {
     "duration": 0.031041,
     "end_time": "2022-02-13T08:05:22.902899",
     "exception": false,
     "start_time": "2022-02-13T08:05:22.871858",
     "status": "completed"
    },
    "tags": []
   },
   "outputs": [],
   "source": [
    "print('Accuracy on training data : ', accuracy_on_training_data)"
   ]
  },
  {
   "cell_type": "code",
   "execution_count": null,
   "id": "995e8c4e",
   "metadata": {
    "execution": {
     "iopub.execute_input": "2022-02-13T08:05:22.953622Z",
     "iopub.status.busy": "2022-02-13T08:05:22.953085Z",
     "iopub.status.idle": "2022-02-13T08:05:22.956992Z",
     "shell.execute_reply": "2022-02-13T08:05:22.957488Z",
     "shell.execute_reply.started": "2022-02-13T08:04:20.664735Z"
    },
    "papermill": {
     "duration": 0.030758,
     "end_time": "2022-02-13T08:05:22.957650",
     "exception": false,
     "start_time": "2022-02-13T08:05:22.926892",
     "status": "completed"
    },
    "tags": []
   },
   "outputs": [],
   "source": [
    "# prediction on test data\n",
    "\n",
    "prediction_on_test_data = model.predict(X_test_features)\n",
    "accuracy_on_test_data = accuracy_score(Y_test, prediction_on_test_data)"
   ]
  },
  {
   "cell_type": "code",
   "execution_count": null,
   "id": "a34d5138",
   "metadata": {
    "execution": {
     "iopub.execute_input": "2022-02-13T08:05:23.008249Z",
     "iopub.status.busy": "2022-02-13T08:05:23.007692Z",
     "iopub.status.idle": "2022-02-13T08:05:23.011935Z",
     "shell.execute_reply": "2022-02-13T08:05:23.012393Z",
     "shell.execute_reply.started": "2022-02-13T08:04:35.170854Z"
    },
    "papermill": {
     "duration": 0.031055,
     "end_time": "2022-02-13T08:05:23.012571",
     "exception": false,
     "start_time": "2022-02-13T08:05:22.981516",
     "status": "completed"
    },
    "tags": []
   },
   "outputs": [],
   "source": [
    "print('Accuracy on test data : ', accuracy_on_test_data)"
   ]
  },
  {
   "cell_type": "markdown",
   "id": "aea44e76",
   "metadata": {
    "papermill": {
     "duration": 0.024265,
     "end_time": "2022-02-13T08:05:23.061577",
     "exception": false,
     "start_time": "2022-02-13T08:05:23.037312",
     "status": "completed"
    },
    "tags": []
   },
   "source": [
    "### Building a Predictive System"
   ]
  },
  {
   "cell_type": "code",
   "execution_count": null,
   "id": "1e8754b7",
   "metadata": {
    "execution": {
     "iopub.execute_input": "2022-02-13T08:05:23.113045Z",
     "iopub.status.busy": "2022-02-13T08:05:23.112483Z",
     "iopub.status.idle": "2022-02-13T08:05:23.120259Z",
     "shell.execute_reply": "2022-02-13T08:05:23.119785Z",
     "shell.execute_reply.started": "2022-02-13T08:04:56.365121Z"
    },
    "papermill": {
     "duration": 0.034324,
     "end_time": "2022-02-13T08:05:23.120386",
     "exception": false,
     "start_time": "2022-02-13T08:05:23.086062",
     "status": "completed"
    },
    "tags": []
   },
   "outputs": [],
   "source": [
    "#input_mail = [\"I've been searching for the right words to thank you for this breather. I promise i wont take your help for granted and will fulfil my promise. You have been wonderful and a blessing at all times\"]\n",
    "#input_mail = [\"Congratulations! You've won a $1,000 Walmart gift card. Click here to claim your prize.\"]\n",
    "#input_mail = [\"Free entry in 2 a weekly competition to win FA Cup final tkts 21st May 2005. Text FA to 87121 to receive entry question(std txt rate)T&C's apply 08452810075over18's\"]\n",
    "input_mail = [\"Upto 20% discount on parking, exclusive offers on restaurants, shopping & more.\"]\n",
    "\n",
    "# convert text to feature vectors\n",
    "input_data_features = feature_extraction.transform(input_mail)\n",
    "\n",
    "# making prediction\n",
    "\n",
    "prediction = model.predict(input_data_features)\n",
    "print(prediction)\n",
    "\n",
    "\n",
    "if (prediction[0]==1):\n",
    "  print('Ham mail')\n",
    "\n",
    "else:\n",
    "  print('Spam mail')"
   ]
  },
  {
   "cell_type": "code",
   "execution_count": null,
   "id": "114805e9",
   "metadata": {
    "papermill": {
     "duration": 0.024356,
     "end_time": "2022-02-13T08:05:23.170108",
     "exception": false,
     "start_time": "2022-02-13T08:05:23.145752",
     "status": "completed"
    },
    "tags": []
   },
   "outputs": [],
   "source": []
  }
 ],
 "metadata": {
  "kernelspec": {
   "display_name": ".venv",
   "language": "python",
   "name": "python3"
  },
  "language_info": {
   "codemirror_mode": {
    "name": "ipython",
    "version": 3
   },
   "file_extension": ".py",
   "mimetype": "text/x-python",
   "name": "python",
   "nbconvert_exporter": "python",
   "pygments_lexer": "ipython3",
   "version": "3.12.10"
  },
  "papermill": {
   "default_parameters": {},
   "duration": 12.014794,
   "end_time": "2022-02-13T08:05:23.806820",
   "environment_variables": {},
   "exception": null,
   "input_path": "__notebook__.ipynb",
   "output_path": "__notebook__.ipynb",
   "parameters": {},
   "start_time": "2022-02-13T08:05:11.792026",
   "version": "2.3.3"
  }
 },
 "nbformat": 4,
 "nbformat_minor": 5
}
